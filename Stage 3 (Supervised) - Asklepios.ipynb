{
 "cells": [
  {
   "cell_type": "markdown",
   "metadata": {
    "id": "MWjErvl0dKAT"
   },
   "source": [
    "# <center> Final Project - Stage 3 (Supervised Learning) </center>"
   ]
  },
  {
   "cell_type": "markdown",
   "metadata": {
    "id": "RMOYqDo5dj-t"
   },
   "source": [
    "**Kelompok : \"ASKLEPIOS\"** <br>\n",
    "**Nama Anggota :** <br>\n",
    "        - Awalsyah Rinanto Putra <br>\n",
    "        - Fathah Oscar <br>\n",
    "        - M Rizky Septiansyah <br>\n",
    "        - Hermawan Febrianto <br>\n",
    "        - Devi Puji Ayuningsih <br>\n",
    "        - Anggita Citanegara Lubis"
   ]
  },
  {
   "cell_type": "code",
   "execution_count": 2,
   "metadata": {
    "id": "HWqttPdSdn8L"
   },
   "outputs": [],
   "source": [
    "#import library \n",
    "\n",
    "import warnings\n",
    "warnings.filterwarnings('ignore')\n",
    "\n",
    "import pandas as pd\n",
    "import matplotlib.pyplot as plt\n",
    "import matplotlib.patches as mpatches\n",
    "import seaborn as sns\n",
    "import numpy as np\n",
    "from scipy import stats\n",
    "from sklearn.preprocessing import StandardScaler, MinMaxScaler"
   ]
  },
  {
   "cell_type": "markdown",
   "metadata": {
    "id": "Bf5RNfaPeWBw"
   },
   "source": [
    "# 1. Data Preparation"
   ]
  },
  {
   "cell_type": "markdown",
   "metadata": {
    "id": "LNXAPDwBeZbo"
   },
   "source": [
    "## 1A. Load Data"
   ]
  },
  {
   "cell_type": "code",
   "execution_count": 1,
   "metadata": {
    "colab": {
     "base_uri": "https://localhost:8080/",
     "height": 317
    },
    "id": "jGZ5gU4pe4Q9",
    "outputId": "fde3e57c-4b49-49f7-8364-ae3e9f026125"
   },
   "outputs": [
    {
     "data": {
      "text/html": [
       "<div>\n",
       "<style scoped>\n",
       "    .dataframe tbody tr th:only-of-type {\n",
       "        vertical-align: middle;\n",
       "    }\n",
       "\n",
       "    .dataframe tbody tr th {\n",
       "        vertical-align: top;\n",
       "    }\n",
       "\n",
       "    .dataframe thead th {\n",
       "        text-align: right;\n",
       "    }\n",
       "</style>\n",
       "<table border=\"1\" class=\"dataframe\">\n",
       "  <thead>\n",
       "    <tr style=\"text-align: right;\">\n",
       "      <th></th>\n",
       "      <th>Calls</th>\n",
       "      <th>Rating</th>\n",
       "      <th>Cost</th>\n",
       "      <th>Purchases</th>\n",
       "      <th>Importance</th>\n",
       "      <th>Gender</th>\n",
       "      <th>Discount</th>\n",
       "      <th>Weight (gram)</th>\n",
       "      <th>Late</th>\n",
       "      <th>log_discount</th>\n",
       "      <th>...</th>\n",
       "      <th>Norm_Purchases</th>\n",
       "      <th>Norm_Calls</th>\n",
       "      <th>Warehouse_A</th>\n",
       "      <th>Warehouse_B</th>\n",
       "      <th>Warehouse_C</th>\n",
       "      <th>Warehouse_D</th>\n",
       "      <th>Warehouse_F</th>\n",
       "      <th>Shipment_Flight</th>\n",
       "      <th>Shipment_Road</th>\n",
       "      <th>Shipment_Ship</th>\n",
       "    </tr>\n",
       "  </thead>\n",
       "  <tbody>\n",
       "    <tr>\n",
       "      <th>241</th>\n",
       "      <td>2</td>\n",
       "      <td>2</td>\n",
       "      <td>127</td>\n",
       "      <td>3</td>\n",
       "      <td>0</td>\n",
       "      <td>1</td>\n",
       "      <td>13</td>\n",
       "      <td>1128</td>\n",
       "      <td>1</td>\n",
       "      <td>2.564949</td>\n",
       "      <td>...</td>\n",
       "      <td>0.292481</td>\n",
       "      <td>0.0</td>\n",
       "      <td>0</td>\n",
       "      <td>0</td>\n",
       "      <td>1</td>\n",
       "      <td>0</td>\n",
       "      <td>0</td>\n",
       "      <td>0</td>\n",
       "      <td>1</td>\n",
       "      <td>0</td>\n",
       "    </tr>\n",
       "    <tr>\n",
       "      <th>7836</th>\n",
       "      <td>4</td>\n",
       "      <td>3</td>\n",
       "      <td>163</td>\n",
       "      <td>3</td>\n",
       "      <td>0</td>\n",
       "      <td>0</td>\n",
       "      <td>10</td>\n",
       "      <td>5002</td>\n",
       "      <td>1</td>\n",
       "      <td>2.302585</td>\n",
       "      <td>...</td>\n",
       "      <td>0.292481</td>\n",
       "      <td>0.4</td>\n",
       "      <td>0</td>\n",
       "      <td>1</td>\n",
       "      <td>0</td>\n",
       "      <td>0</td>\n",
       "      <td>0</td>\n",
       "      <td>0</td>\n",
       "      <td>0</td>\n",
       "      <td>1</td>\n",
       "    </tr>\n",
       "    <tr>\n",
       "      <th>3002</th>\n",
       "      <td>3</td>\n",
       "      <td>4</td>\n",
       "      <td>170</td>\n",
       "      <td>3</td>\n",
       "      <td>0</td>\n",
       "      <td>1</td>\n",
       "      <td>5</td>\n",
       "      <td>4716</td>\n",
       "      <td>1</td>\n",
       "      <td>1.609438</td>\n",
       "      <td>...</td>\n",
       "      <td>0.292481</td>\n",
       "      <td>0.2</td>\n",
       "      <td>0</td>\n",
       "      <td>0</td>\n",
       "      <td>0</td>\n",
       "      <td>0</td>\n",
       "      <td>1</td>\n",
       "      <td>0</td>\n",
       "      <td>0</td>\n",
       "      <td>1</td>\n",
       "    </tr>\n",
       "    <tr>\n",
       "      <th>7955</th>\n",
       "      <td>7</td>\n",
       "      <td>4</td>\n",
       "      <td>290</td>\n",
       "      <td>4</td>\n",
       "      <td>0</td>\n",
       "      <td>0</td>\n",
       "      <td>10</td>\n",
       "      <td>1886</td>\n",
       "      <td>1</td>\n",
       "      <td>2.302585</td>\n",
       "      <td>...</td>\n",
       "      <td>0.500000</td>\n",
       "      <td>1.0</td>\n",
       "      <td>0</td>\n",
       "      <td>0</td>\n",
       "      <td>1</td>\n",
       "      <td>0</td>\n",
       "      <td>0</td>\n",
       "      <td>0</td>\n",
       "      <td>0</td>\n",
       "      <td>1</td>\n",
       "    </tr>\n",
       "    <tr>\n",
       "      <th>1784</th>\n",
       "      <td>6</td>\n",
       "      <td>4</td>\n",
       "      <td>194</td>\n",
       "      <td>3</td>\n",
       "      <td>0</td>\n",
       "      <td>1</td>\n",
       "      <td>10</td>\n",
       "      <td>2554</td>\n",
       "      <td>1</td>\n",
       "      <td>2.302585</td>\n",
       "      <td>...</td>\n",
       "      <td>0.292481</td>\n",
       "      <td>0.8</td>\n",
       "      <td>0</td>\n",
       "      <td>0</td>\n",
       "      <td>0</td>\n",
       "      <td>0</td>\n",
       "      <td>1</td>\n",
       "      <td>1</td>\n",
       "      <td>0</td>\n",
       "      <td>0</td>\n",
       "    </tr>\n",
       "  </tbody>\n",
       "</table>\n",
       "<p>5 rows × 29 columns</p>\n",
       "</div>"
      ],
      "text/plain": [
       "      Calls  Rating  Cost  Purchases  Importance  Gender  Discount  \\\n",
       "241       2       2   127          3           0       1        13   \n",
       "7836      4       3   163          3           0       0        10   \n",
       "3002      3       4   170          3           0       1         5   \n",
       "7955      7       4   290          4           0       0        10   \n",
       "1784      6       4   194          3           0       1        10   \n",
       "\n",
       "      Weight (gram)  Late  log_discount  ...  Norm_Purchases  Norm_Calls  \\\n",
       "241            1128     1      2.564949  ...        0.292481         0.0   \n",
       "7836           5002     1      2.302585  ...        0.292481         0.4   \n",
       "3002           4716     1      1.609438  ...        0.292481         0.2   \n",
       "7955           1886     1      2.302585  ...        0.500000         1.0   \n",
       "1784           2554     1      2.302585  ...        0.292481         0.8   \n",
       "\n",
       "      Warehouse_A  Warehouse_B  Warehouse_C  Warehouse_D  Warehouse_F  \\\n",
       "241             0            0            1            0            0   \n",
       "7836            0            1            0            0            0   \n",
       "3002            0            0            0            0            1   \n",
       "7955            0            0            1            0            0   \n",
       "1784            0            0            0            0            1   \n",
       "\n",
       "      Shipment_Flight  Shipment_Road  Shipment_Ship  \n",
       "241                 0              1              0  \n",
       "7836                0              0              1  \n",
       "3002                0              0              1  \n",
       "7955                0              0              1  \n",
       "1784                1              0              0  \n",
       "\n",
       "[5 rows x 29 columns]"
      ]
     },
     "execution_count": 1,
     "metadata": {},
     "output_type": "execute_result"
    }
   ],
   "source": [
    "import pandas as pd\n",
    "\n",
    "df =pd.read_csv(\"(clean)ecommerceshippingdata.csv\")\n",
    "df.sample(5)"
   ]
  },
  {
   "cell_type": "code",
   "execution_count": 4,
   "metadata": {
    "colab": {
     "base_uri": "https://localhost:8080/"
    },
    "id": "Dv_OL5w2flfv",
    "outputId": "6cf88fa2-3f86-4497-b503-2d6cd3f6c39c"
   },
   "outputs": [
    {
     "name": "stdout",
     "output_type": "stream",
     "text": [
      "<class 'pandas.core.frame.DataFrame'>\n",
      "RangeIndex: 10642 entries, 0 to 10641\n",
      "Data columns (total 29 columns):\n",
      " #   Column           Non-Null Count  Dtype  \n",
      "---  ------           --------------  -----  \n",
      " 0   Calls            10642 non-null  int64  \n",
      " 1   Rating           10642 non-null  int64  \n",
      " 2   Cost             10642 non-null  int64  \n",
      " 3   Purchases        10642 non-null  int64  \n",
      " 4   Importance       10642 non-null  int64  \n",
      " 5   Gender           10642 non-null  int64  \n",
      " 6   Discount         10642 non-null  int64  \n",
      " 7   Weight (gram)    10642 non-null  int64  \n",
      " 8   Late             10642 non-null  int64  \n",
      " 9   log_discount     10642 non-null  float64\n",
      " 10  log_purchases    10642 non-null  float64\n",
      " 11  Std_Cost         10642 non-null  float64\n",
      " 12  Std_Disc         10642 non-null  float64\n",
      " 13  Std_Weight       10642 non-null  float64\n",
      " 14  Std_Purchases    10642 non-null  float64\n",
      " 15  Std_Calls        10642 non-null  float64\n",
      " 16  Norm_Cost        10642 non-null  float64\n",
      " 17  Norm_Disc        10642 non-null  float64\n",
      " 18  Norm_Weight      10642 non-null  float64\n",
      " 19  Norm_Purchases   10642 non-null  float64\n",
      " 20  Norm_Calls       10642 non-null  float64\n",
      " 21  Warehouse_A      10642 non-null  int64  \n",
      " 22  Warehouse_B      10642 non-null  int64  \n",
      " 23  Warehouse_C      10642 non-null  int64  \n",
      " 24  Warehouse_D      10642 non-null  int64  \n",
      " 25  Warehouse_F      10642 non-null  int64  \n",
      " 26  Shipment_Flight  10642 non-null  int64  \n",
      " 27  Shipment_Road    10642 non-null  int64  \n",
      " 28  Shipment_Ship    10642 non-null  int64  \n",
      "dtypes: float64(12), int64(17)\n",
      "memory usage: 2.4 MB\n"
     ]
    }
   ],
   "source": [
    "df.info()"
   ]
  },
  {
   "cell_type": "markdown",
   "metadata": {},
   "source": [
    "<b> Bagi dataset jadi 2, yaitu dataset normalisasi dan dataset standarisasi </b>"
   ]
  },
  {
   "cell_type": "code",
   "execution_count": 6,
   "metadata": {
    "id": "QqygNYPDfsI8"
   },
   "outputs": [],
   "source": [
    "# dfS hapus kolom normalisasi (modeling standarisasi)\n",
    "dfs = df.drop(columns=['Norm_Cost', 'Norm_Disc','Norm_Weight','Norm_Purchases','Norm_Calls'])"
   ]
  },
  {
   "cell_type": "code",
   "execution_count": 7,
   "metadata": {
    "colab": {
     "base_uri": "https://localhost:8080/"
    },
    "id": "zn2G0y6zgX1Y",
    "outputId": "39d67f39-bb1e-4cfc-af62-bcfa9dd3f930"
   },
   "outputs": [
    {
     "data": {
      "text/plain": [
       "(10642, 24)"
      ]
     },
     "execution_count": 7,
     "metadata": {},
     "output_type": "execute_result"
    }
   ],
   "source": [
    "dfs.shape"
   ]
  },
  {
   "cell_type": "code",
   "execution_count": 8,
   "metadata": {
    "id": "6VMhSvjuf0_R"
   },
   "outputs": [],
   "source": [
    "# dfn hapus kolom standarisasi (modeling normalisasi)\n",
    "dfn = df.drop(columns=['Std_Cost', 'Std_Disc','Std_Weight','Std_Purchases','Std_Calls'])"
   ]
  },
  {
   "cell_type": "code",
   "execution_count": 9,
   "metadata": {
    "colab": {
     "base_uri": "https://localhost:8080/"
    },
    "id": "Ah95LHZHgiEf",
    "outputId": "b4c26fbf-1cc3-40d1-dd27-aa3a2a7366e9"
   },
   "outputs": [
    {
     "data": {
      "text/plain": [
       "(10642, 24)"
      ]
     },
     "execution_count": 9,
     "metadata": {},
     "output_type": "execute_result"
    }
   ],
   "source": [
    "dfn.shape"
   ]
  },
  {
   "cell_type": "markdown",
   "metadata": {},
   "source": [
    "## 1B. Cek Class Imbalance"
   ]
  },
  {
   "cell_type": "code",
   "execution_count": 10,
   "metadata": {
    "colab": {
     "base_uri": "https://localhost:8080/"
    },
    "id": "AleVMsajf3nq",
    "outputId": "2290cd94-79e6-400a-fc74-6d218f3d3035"
   },
   "outputs": [
    {
     "data": {
      "text/plain": [
       "1    0.590303\n",
       "0    0.409697\n",
       "Name: Late, dtype: float64"
      ]
     },
     "execution_count": 10,
     "metadata": {},
     "output_type": "execute_result"
    }
   ],
   "source": [
    "# Class imbalance\n",
    "\n",
    "df.Late.value_counts(normalize=True)"
   ]
  },
  {
   "cell_type": "markdown",
   "metadata": {},
   "source": [
    "<b> Target dataset sudah lumayan balance karena minority class > 40 % </b>"
   ]
  },
  {
   "cell_type": "markdown",
   "metadata": {
    "id": "Pgo-oX35g7JM"
   },
   "source": [
    "## 1C. Feature Importance & Target"
   ]
  },
  {
   "cell_type": "markdown",
   "metadata": {
    "id": "MdBtuyNhhBQI"
   },
   "source": [
    "### Dataset Standardization"
   ]
  },
  {
   "cell_type": "code",
   "execution_count": 11,
   "metadata": {
    "id": "SM-dBSBJhE4e"
   },
   "outputs": [],
   "source": [
    "# hapus Late (target) + 'Calls', 'Cost', 'Purchases', 'Discount', 'Weight (gram), 'log_purchase', 'log_discount' pada dfs\n",
    "\n",
    "Xs = dfs.drop(columns=[ 'Late', 'Calls', 'Cost', 'Purchases', 'Discount', 'Weight (gram)',\n",
    "                     'log_purchases', 'log_discount']) #drop feature yang sudah ditransformasi\n",
    "ys = dfs['Late'] #target"
   ]
  },
  {
   "cell_type": "markdown",
   "metadata": {
    "id": "a7s51VW7hndy"
   },
   "source": [
    "### Dataset Normalization"
   ]
  },
  {
   "cell_type": "code",
   "execution_count": 12,
   "metadata": {
    "id": "ZLqlhCqShaZy"
   },
   "outputs": [],
   "source": [
    "# hapus Late (target) + 'Calls', 'Cost', 'Purchases', 'Discount', 'Weight (gram), 'log_purchase', 'log_discount' pada dfs\n",
    "\n",
    "Xn = dfn.drop(columns=[ 'Late', 'Calls', 'Cost', 'Purchases', 'Discount', 'Weight (gram)',\n",
    "                     'log_purchases', 'log_discount']) #drop feature yang tidak signifikan\n",
    "yn = dfn['Late'] #target"
   ]
  },
  {
   "cell_type": "markdown",
   "metadata": {
    "id": "gfMBkoGdhvOL"
   },
   "source": [
    "## 1D. Split Train and Test Dataset"
   ]
  },
  {
   "cell_type": "markdown",
   "metadata": {
    "id": "C1m4h6zUhyfA"
   },
   "source": [
    "### Dataset Standardization"
   ]
  },
  {
   "cell_type": "code",
   "execution_count": 13,
   "metadata": {
    "id": "qWdfYiYUiDfx"
   },
   "outputs": [],
   "source": [
    "# split train and test\n",
    "\n",
    "from sklearn.model_selection import train_test_split\n",
    "Xs_train, Xs_test, ys_train, ys_test = train_test_split(Xs, ys, test_size=0.3, random_state=42)"
   ]
  },
  {
   "cell_type": "markdown",
   "metadata": {
    "id": "sfoJmCIWh6jC"
   },
   "source": [
    "### Dataset Normalization"
   ]
  },
  {
   "cell_type": "code",
   "execution_count": 14,
   "metadata": {
    "id": "FOPSLRAsh851"
   },
   "outputs": [],
   "source": [
    "# split train and test\n",
    "from sklearn.model_selection import train_test_split\n",
    "Xn_train, Xn_test, yn_train, yn_test = train_test_split(Xn, yn, test_size=0.3, random_state=42)"
   ]
  },
  {
   "cell_type": "markdown",
   "metadata": {
    "id": "NKiBvey2iiJt"
   },
   "source": [
    "## 1D. Define Fungsi Metode Evaluasi"
   ]
  },
  {
   "cell_type": "markdown",
   "metadata": {
    "id": "mFpApEnAiUUK"
   },
   "source": [
    "### Dataset Standardization"
   ]
  },
  {
   "cell_type": "code",
   "execution_count": 15,
   "metadata": {
    "id": "C5TLxmExinrG"
   },
   "outputs": [],
   "source": [
    "# pembuatan fungsi untuk mengeluarkan output skor evaluasi model\n",
    "\n",
    "from sklearn.metrics import accuracy_score, precision_score, recall_score, f1_score, roc_auc_score\n",
    "from sklearn.model_selection import cross_validate\n",
    "\n",
    "def eval_classification_std(model):\n",
    "    ys_pred = model.predict(Xs_test)\n",
    "    ys_pred_train = model.predict(Xs_train)\n",
    "    ys_pred_proba = model.predict_proba(Xs_test)\n",
    "    ys_pred_proba_train = model.predict_proba(Xs_train)\n",
    "    \n",
    "    \n",
    "    print(\"Accuracy (Train Set): %.2f\" % accuracy_score(ys_train, ys_pred_train))\n",
    "    print(\"Accuracy (Test Set): %.2f\" % accuracy_score(ys_test, ys_pred))\n",
    "    print(\"Precision (Train Set): %.2f\" % precision_score(ys_train, ys_pred_train))\n",
    "    print(\"Precision (Test Set): %.2f\" % precision_score(ys_test, ys_pred))\n",
    "    print(\"Recall (Train Set): %.2f\" % recall_score(ys_train, ys_pred_train))\n",
    "    print(\"Recall (Test Set): %.2f\" % recall_score(ys_test, ys_pred))\n",
    "    print(\"F1-Score (Train Set): %.2f\" % f1_score(ys_train, ys_pred_train))\n",
    "    print(\"F1-Score (Test Set): %.2f\" % f1_score(ys_test, ys_pred))\n",
    "    print(\"roc_auc (train-proba): %.2f\" % roc_auc_score(ys_train, ys_pred_proba_train[:, 1]))\n",
    "    print(\"roc_auc (test-proba): %.2f\" % roc_auc_score(ys_test, ys_pred_proba[:, 1]))\n",
    "\n",
    "    score = cross_validate(model, Xs, ys, cv=5, scoring='roc_auc', return_train_score=True)\n",
    "    print('roc_auc (crossval train): '+ str(score['train_score'].mean()))\n",
    "    print('roc_auc (crossval test): '+ str(score['test_score'].mean()))"
   ]
  },
  {
   "cell_type": "code",
   "execution_count": 16,
   "metadata": {
    "id": "FcgBVX_niwjq"
   },
   "outputs": [],
   "source": [
    "# pembuatan fungsi untuk melihat feature importance pada model decision tree\n",
    "\n",
    "def show_feature_importance_std(model):\n",
    "    feat_importances = pd.Series(model.feature_importances_, index=Xs.columns)\n",
    "    ax = feat_importances.nlargest(25).plot(kind='barh', figsize=(10, 8))\n",
    "    ax.invert_yaxis()\n",
    "\n",
    "    plt.xlabel('score')\n",
    "    plt.ylabel('feature')\n",
    "    plt.title('feature importance score')"
   ]
  },
  {
   "cell_type": "code",
   "execution_count": 17,
   "metadata": {
    "id": "dNgE4aC8jEQ9"
   },
   "outputs": [],
   "source": [
    "# pembuatan fungsi untuk melihat hyperparameter yang telah dituning\n",
    "\n",
    "def show_best_hyperparameter(model):\n",
    "    print(model.best_estimator_.get_params())"
   ]
  },
  {
   "cell_type": "markdown",
   "metadata": {
    "id": "oG_5Stv9iUsw"
   },
   "source": [
    "### Dataset Normalization"
   ]
  },
  {
   "cell_type": "code",
   "execution_count": 18,
   "metadata": {
    "id": "NclJDOFVjGlZ"
   },
   "outputs": [],
   "source": [
    "# pembuatan fungsi untuk mengeluarkan output skor evaluasi model\n",
    "\n",
    "from sklearn.metrics import accuracy_score, precision_score, recall_score, f1_score, roc_auc_score\n",
    "from sklearn.model_selection import cross_validate\n",
    "\n",
    "def eval_classification_norm(model):\n",
    "    yn_pred = model.predict(Xn_test)\n",
    "    yn_pred_train = model.predict(Xn_train)\n",
    "    yn_pred_proba = model.predict_proba(Xn_test)\n",
    "    yn_pred_proba_train = model.predict_proba(Xn_train)\n",
    "    \n",
    "    \n",
    "    print(\"Accuracy (Train Set): %.2f\" % accuracy_score(yn_train, yn_pred_train))\n",
    "    print(\"Accuracy (Test Set): %.2f\" % accuracy_score(yn_test, yn_pred))\n",
    "    print(\"Precision (Train Set): %.2f\" % precision_score(yn_train, yn_pred_train))\n",
    "    print(\"Precision (Test Set): %.2f\" % precision_score(yn_test, yn_pred))\n",
    "    print(\"Recall (Train Set): %.2f\" % recall_score(yn_train, yn_pred_train))\n",
    "    print(\"Recall (Test Set): %.2f\" % recall_score(yn_test, yn_pred))\n",
    "    print(\"F1-Score (Train Set): %.2f\" % f1_score(yn_train, yn_pred_train))\n",
    "    print(\"F1-Score (Test Set): %.2f\" % f1_score(yn_test, yn_pred))\n",
    "    print(\"roc_auc (train-proba): %.2f\" % roc_auc_score(yn_train, yn_pred_proba_train[:, 1]))\n",
    "    print(\"roc_auc (test-proba): %.2f\" % roc_auc_score(yn_test, yn_pred_proba[:, 1]))\n",
    "\n",
    "    score = cross_validate(model, Xn, yn, cv=5, scoring='roc_auc', return_train_score=True)\n",
    "    print('roc_auc (crossval train): '+ str(score['train_score'].mean()))\n",
    "    print('roc_auc (crossval test): '+ str(score['test_score'].mean()))"
   ]
  },
  {
   "cell_type": "code",
   "execution_count": 21,
   "metadata": {},
   "outputs": [],
   "source": [
    "# pembuatan fungsi untuk melihat feature importance pada model decision tree\n",
    "\n",
    "def show_feature_importance_norm(model):\n",
    "    feat_importances = pd.Series(model.feature_importances_, index=Xn.columns)\n",
    "    ax = feat_importances.nlargest(25).plot(kind='barh', figsize=(10, 8))\n",
    "    ax.invert_yaxis()\n",
    "\n",
    "    plt.xlabel('score')\n",
    "    plt.ylabel('feature')\n",
    "    plt.title('feature importance score')"
   ]
  },
  {
   "cell_type": "code",
   "execution_count": 20,
   "metadata": {},
   "outputs": [],
   "source": [
    "# pembuatan fungsi untuk melihat hyperparameter yang telah dituning\n",
    "\n",
    "def show_best_hyperparameter(model):\n",
    "    print(model.best_estimator_.get_params())"
   ]
  },
  {
   "cell_type": "markdown",
   "metadata": {
    "id": "I3-P2ZcijUqC"
   },
   "source": [
    "# 2. Modelling"
   ]
  },
  {
   "cell_type": "markdown",
   "metadata": {
    "id": "MgWODivQjWnf"
   },
   "source": [
    "## 2A. Logistic Regression"
   ]
  },
  {
   "cell_type": "markdown",
   "metadata": {
    "id": "vQTv64Xyjfqv"
   },
   "source": [
    "### Fit Modelling (Data Standardization)"
   ]
  },
  {
   "cell_type": "code",
   "execution_count": 17,
   "metadata": {
    "colab": {
     "base_uri": "https://localhost:8080/"
    },
    "id": "KS2WvbVRjrSP",
    "outputId": "c2d12827-a9ac-490a-bfc3-64f19006d70b"
   },
   "outputs": [
    {
     "name": "stdout",
     "output_type": "stream",
     "text": [
      "Accuracy (Train Set): 0.62\n",
      "Accuracy (Test Set): 0.63\n",
      "Precision (Train Set): 0.66\n",
      "Precision (Test Set): 0.67\n",
      "Recall (Train Set): 0.74\n",
      "Recall (Test Set): 0.72\n",
      "F1-Score (Train Set): 0.70\n",
      "F1-Score (Test Set): 0.70\n",
      "roc_auc (train-proba): 0.71\n",
      "roc_auc (test-proba): 0.72\n",
      "roc_auc (crossval train): 0.7141199070075464\n",
      "roc_auc (crossval test): 0.696233287100099\n"
     ]
    }
   ],
   "source": [
    "from sklearn.linear_model import LogisticRegression # import logistic regression dari sklearn\n",
    "logregs = LogisticRegression() # inisiasi object dengan nama logreg\n",
    "logregs.fit(Xs_train, ys_train) # fit model regression dari data train\n",
    "eval_classification_std(logregs)"
   ]
  },
  {
   "cell_type": "markdown",
   "metadata": {
    "id": "jxuK9SCPj9Ep"
   },
   "source": [
    "nilai ROC-AUC underfitting (AUC data test lebih besar daripada data train), namun ROC-AUC pada crossval lebih besar data train daripada data test, langkah selanjutnya adalah mencoba tuning hyperparameter."
   ]
  },
  {
   "cell_type": "markdown",
   "metadata": {
    "id": "3xlWKGTgkMaC"
   },
   "source": [
    "### Hyperparameter Tuning\n",
    "<b>Hyperparameter yang biasa di tuning pada Logistic Regression:</b> https://scikit-learn.org/stable/modules/generated/sklearn.linear_model.LogisticRegression.html\n",
    "- C: nilai regularization\n",
    "- penalty: menggukanan l2 norm (ridge), l1 (lasso), atau elastic net\n",
    "- solver: metode bagaimana kita melakukan update pada variable di logistic regression (slope/intercept): liblinear bagus jika data sedikit; sag & saga bagus jika data besar (karena menggunakan metode sampling)"
   ]
  },
  {
   "cell_type": "code",
   "execution_count": 18,
   "metadata": {
    "colab": {
     "base_uri": "https://localhost:8080/"
    },
    "id": "Gb-eP6HUkNQw",
    "outputId": "df30b893-2b3a-46b8-8f60-8cf1f6161ffe"
   },
   "outputs": [
    {
     "name": "stdout",
     "output_type": "stream",
     "text": [
      "Accuracy (Train Set): 0.62\n",
      "Accuracy (Test Set): 0.63\n",
      "Precision (Train Set): 0.66\n",
      "Precision (Test Set): 0.67\n",
      "Recall (Train Set): 0.74\n",
      "Recall (Test Set): 0.73\n",
      "F1-Score (Train Set): 0.70\n",
      "F1-Score (Test Set): 0.70\n",
      "roc_auc (train-proba): 0.71\n",
      "roc_auc (test-proba): 0.72\n",
      "roc_auc (crossval train): 0.7140754209517693\n",
      "roc_auc (crossval test): 0.6959115443320479\n"
     ]
    }
   ],
   "source": [
    "from sklearn.model_selection import RandomizedSearchCV\n",
    "\n",
    "penalty = ['l1', 'l2'] # pakai lasso dan ridge\n",
    "C = [float(x) for x in np.linspace(0.0001, 0.05, 100)] # buat 100 iterasi antara 0.0001 sampai 0.05\n",
    "hyperparameters = dict(penalty=penalty, C=C)\n",
    "\n",
    "logregs = LogisticRegression()\n",
    "rss = RandomizedSearchCV(logregs, hyperparameters, scoring='roc_auc', random_state=42, cv=5)\n",
    "rss.fit(Xs_train, ys_train)\n",
    "eval_classification_std(rss)"
   ]
  },
  {
   "cell_type": "markdown",
   "metadata": {
    "id": "v8CajVOBktvd"
   },
   "source": [
    "Masiih sama keadannya seperti sebelum tuning hyperparameter yaitu underfitting namun pada crossval ROC-AUC data train sudah lebih besar daripada data test. Langkah selanjutnya coba melihat learning curve."
   ]
  },
  {
   "cell_type": "code",
   "execution_count": 19,
   "metadata": {
    "colab": {
     "base_uri": "https://localhost:8080/",
     "height": 1000
    },
    "id": "znXZkyO4kdO0",
    "outputId": "e237f8d4-7def-4627-99a2-2812c8ab1988"
   },
   "outputs": [
    {
     "name": "stdout",
     "output_type": "stream",
     "text": [
      "param value: 0.0001; train: 0.707848088231673; test: 0.7167929954644565\n",
      "param value: 0.010199999999999999; train: 0.709955014143422; test: 0.71660819309381\n",
      "param value: 0.0203; train: 0.7101031264759935; test: 0.7164759603253169\n",
      "param value: 0.0304; train: 0.710149015183566; test: 0.7164136855658431\n",
      "param value: 0.0405; train: 0.7101852038391313; test: 0.7163999365929722\n",
      "param value: 0.0506; train: 0.7102114685953353; test: 0.7163692035947902\n",
      "param value: 0.060700000000000004; train: 0.7102254217470689; test: 0.7163631378714649\n",
      "param value: 0.0708; train: 0.7102298986941491; test: 0.7163590940559146\n",
      "param value: 0.0809; train: 0.710232883325536; test: 0.7163514108063691\n",
      "param value: 0.091; train: 0.7102379571988937; test: 0.7163449407014888\n",
      "param value: 0.1011; train: 0.7102399718250797; test: 0.716333213636393\n",
      "param value: 0.1112; train: 0.7102463887825614; test: 0.7163356399257232\n",
      "param value: 0.1213; train: 0.7102478810982549; test: 0.7163376618334985\n",
      "param value: 0.1314; train: 0.7102506418822876; test: 0.7163271479130677\n",
      "param value: 0.1415; train: 0.7102522088137657; test: 0.7163247216237376\n",
      "param value: 0.15159999999999998; train: 0.7102539249768132; test: 0.7163255303868477\n",
      "param value: 0.16169999999999998; train: 0.7102566111450612; test: 0.7163222953344075\n",
      "param value: 0.17179999999999998; train: 0.7102589988501707; test: 0.7163206778081873\n",
      "param value: 0.18189999999999998; train: 0.7102592973133095; test: 0.7163210821897423\n",
      "param value: 0.19199999999999998; train: 0.7102639981077437; test: 0.716315420847972\n",
      "param value: 0.20209999999999997; train: 0.7102663858128531; test: 0.716317038374192\n",
      "param value: 0.21219999999999997; train: 0.7102690719811013; test: 0.7163129945586417\n",
      "param value: 0.22229999999999997; train: 0.7102677288969772; test: 0.7163125901770868\n",
      "param value: 0.23239999999999997; train: 0.71026825120747; test: 0.7163113770324216\n",
      "param value: 0.2425; train: 0.71027048968101; test: 0.7163133989401967\n",
      "param value: 0.2526; train: 0.7102721312282728; test: 0.7163105682693117\n",
      "param value: 0.2627; train: 0.7102719819967034; test: 0.7163101638877567\n",
      "param value: 0.2728; train: 0.7102739966228896; test: 0.7163101638877567\n",
      "param value: 0.2829; train: 0.7102745189333822; test: 0.7163113770324216\n",
      "param value: 0.293; train: 0.7102732504650429; test: 0.7163138033217518\n",
      "param value: 0.3031; train: 0.7102761604806451; test: 0.7163133989401969\n",
      "param value: 0.3132; train: 0.7102769812542764; test: 0.7163113770324218\n",
      "param value: 0.3233; train: 0.7102774289489844; test: 0.7163089507430915\n",
      "param value: 0.3334; train: 0.7102773543331997; test: 0.7163069288353164\n",
      "param value: 0.34349999999999997; train: 0.7102776527963385; test: 0.7163085463615365\n",
      "param value: 0.35359999999999997; train: 0.7102771304858457; test: 0.7163142077033069\n",
      "param value: 0.36369999999999997; train: 0.7102783243384004; test: 0.7163109726508667\n",
      "param value: 0.37379999999999997; train: 0.7102768320227071; test: 0.7163077375984265\n",
      "param value: 0.38389999999999996; train: 0.7102783243384005; test: 0.7163089507430915\n",
      "param value: 0.39399999999999996; train: 0.7102782497226159; test: 0.7163109726508666\n",
      "param value: 0.40409999999999996; train: 0.710280488196156; test: 0.7163077375984265\n",
      "param value: 0.41419999999999996; train: 0.7102808612750793; test: 0.7163109726508666\n",
      "param value: 0.42429999999999995; train: 0.7102792943436012; test: 0.7163085463615366\n",
      "param value: 0.43439999999999995; train: 0.7102802643488019; test: 0.7163129945586418\n",
      "param value: 0.44449999999999995; train: 0.7102762350964298; test: 0.7163089507430915\n",
      "param value: 0.45459999999999995; train: 0.7102786974173239; test: 0.7163133989401967\n",
      "param value: 0.46469999999999995; train: 0.7102822789749881; test: 0.7163117814139767\n",
      "param value: 0.47479999999999994; train: 0.7102832489801887; test: 0.7163105682693116\n",
      "param value: 0.4849; train: 0.710282726669696; test: 0.7163113770324216\n",
      "param value: 0.495; train: 0.710282726669696; test: 0.7163125901770868\n",
      "param value: 0.5051; train: 0.7102839205222509; test: 0.7163125901770868\n",
      "param value: 0.5152; train: 0.7102830997486195; test: 0.7163121857955317\n",
      "param value: 0.5253; train: 0.7102823535907727; test: 0.7163142077033068\n",
      "param value: 0.5354; train: 0.7102835474433274; test: 0.7163133989401969\n",
      "param value: 0.5455; train: 0.7102834728275427; test: 0.716314207703307\n",
      "param value: 0.5556; train: 0.7102833235959735; test: 0.716316633992637\n",
      "param value: 0.5657; train: 0.7102840697538201; test: 0.7163129945586417\n",
      "param value: 0.5758; train: 0.7102851889905902; test: 0.7163105682693117\n",
      "param value: 0.5859; train: 0.710282726669696; test: 0.7163125901770867\n",
      "param value: 0.596; train: 0.7102842189853895; test: 0.7163146120848618\n",
      "param value: 0.6061; train: 0.71028295051705; test: 0.7163133989401969\n",
      "param value: 0.6162; train: 0.71028295051705; test: 0.7163129945586418\n",
      "param value: 0.6263; train: 0.7102851889905901; test: 0.7163105682693116\n",
      "param value: 0.6364; train: 0.7102841443696049; test: 0.7163170383741921\n",
      "param value: 0.6465; train: 0.7102824282065574; test: 0.7163129945586418\n",
      "param value: 0.6566; train: 0.7102851143748055; test: 0.7163194646635223\n",
      "param value: 0.6667; train: 0.7102843682169588; test: 0.7163186559004121\n",
      "param value: 0.6768; train: 0.7102838459064662; test: 0.7163202734266323\n",
      "param value: 0.6869; train: 0.7102825774381267; test: 0.7163186559004122\n",
      "param value: 0.697; train: 0.7102860097642215; test: 0.7163125901770868\n",
      "param value: 0.7071; train: 0.7102836966748968; test: 0.7163085463615365\n",
      "param value: 0.7172; train: 0.710280040501448; test: 0.716315825229527\n",
      "param value: 0.7273; train: 0.7102854874537289; test: 0.7163206778081872\n",
      "param value: 0.7373999999999999; train: 0.7102840697538201; test: 0.7163162296110821\n",
      "param value: 0.7474999999999999; train: 0.7102828759012654; test: 0.7163178471373022\n",
      "param value: 0.7575999999999999; train: 0.7102839951380355; test: 0.7163178471373022\n",
      "param value: 0.7676999999999999; train: 0.7102855620695135; test: 0.7163194646635223\n",
      "param value: 0.7777999999999999; train: 0.7102830251328347; test: 0.7163194646635223\n",
      "param value: 0.7878999999999999; train: 0.7102840697538202; test: 0.7163186559004122\n",
      "param value: 0.7979999999999999; train: 0.7102839205222508; test: 0.7163178471373022\n",
      "param value: 0.8080999999999999; train: 0.7102843682169588; test: 0.7163178471373022\n",
      "param value: 0.8181999999999999; train: 0.7102845174485282; test: 0.7163178471373022\n",
      "param value: 0.8282999999999999; train: 0.7102844428327435; test: 0.7163186559004121\n",
      "param value: 0.8383999999999999; train: 0.7102846666800975; test: 0.7163186559004121\n",
      "param value: 0.8484999999999999; train: 0.7102855620695135; test: 0.7163198690450772\n",
      "param value: 0.8585999999999999; train: 0.7102852636063749; test: 0.7163202734266323\n",
      "param value: 0.8686999999999999; train: 0.7102845174485282; test: 0.7163202734266323\n",
      "param value: 0.8787999999999999; train: 0.7102844428327435; test: 0.7163190602819672\n",
      "param value: 0.8888999999999999; train: 0.7102840697538202; test: 0.7163202734266323\n",
      "param value: 0.8989999999999999; train: 0.7102841443696047; test: 0.7163182515188571\n",
      "param value: 0.9090999999999999; train: 0.7102846666800975; test: 0.7163182515188571\n",
      "param value: 0.9191999999999999; train: 0.7102845174485282; test: 0.7163182515188571\n",
      "param value: 0.9292999999999999; train: 0.7102850397590208; test: 0.7163190602819671\n",
      "param value: 0.9393999999999999; train: 0.7102851143748055; test: 0.7163198690450773\n",
      "param value: 0.9494999999999999; train: 0.7102849651432361; test: 0.7163194646635223\n",
      "param value: 0.9595999999999999; train: 0.7102846666800975; test: 0.7163182515188571\n",
      "param value: 0.9697; train: 0.7102848159116668; test: 0.7163178471373021\n",
      "param value: 0.9798; train: 0.7102851143748055; test: 0.716317442755747\n",
      "param value: 0.9899; train: 0.7102848905274515; test: 0.7163170383741921\n",
      "param value: 1.0; train: 0.7102851889905901; test: 0.7163162296110821\n"
     ]
    },
    {
     "data": {
      "image/png": "[encoded data removed]",
      "text/plain": [
       "<Figure size 432x288 with 1 Axes>"
      ]
     },
     "metadata": {
      "needs_background": "light"
     },
     "output_type": "display_data"
    }
   ],
   "source": [
    "# Draw the learning curve\n",
    "\n",
    "import numpy as np\n",
    "from matplotlib import pyplot as plt\n",
    "from sklearn.linear_model import LogisticRegression\n",
    "from sklearn.neighbors import KNeighborsClassifier\n",
    "from sklearn.tree import DecisionTreeClassifier\n",
    "\n",
    "def draw_learning_curve_std(param_values):\n",
    "    train_scores = []\n",
    "    test_scores = []\n",
    "\n",
    "    for c in param_values:\n",
    "        model = LogisticRegression(penalty='l2', C=c) #ini bisa diutak-atik\n",
    "        model.fit(Xs_train, ys_train)\n",
    "\n",
    "        # eval on train\n",
    "        ys_pred_train_proba = model.predict_proba(Xs_train)\n",
    "        train_auc = roc_auc_score(ys_train, ys_pred_train_proba[:,1])\n",
    "        train_scores.append(train_auc)\n",
    "\n",
    "        # eval on test\n",
    "        ys_pred_proba = model.predict_proba(Xs_test)\n",
    "        test_auc = roc_auc_score(ys_test, ys_pred_proba[:,1])\n",
    "        test_scores.append(test_auc)\n",
    "\n",
    "        print('param value: ' + str(c) + '; train: ' + str(train_auc) + '; test: '+ str(test_auc))\n",
    "\n",
    "    plt.plot(param_values, train_scores, label='Train')\n",
    "    plt.plot(param_values, test_scores, label='Test')\n",
    "    plt.xlabel('C')\n",
    "    plt.ylabel('AUC')\n",
    "    plt.title('Learning Curve - Hyperparameter C - Logistic Regression')\n",
    "    plt.legend()\n",
    "    plt.show()\n",
    "    \n",
    "\n",
    "param_values = [float(x) for x in np.linspace(0.0001, 1, 100)] #ini bisa diutak atik\n",
    "draw_learning_curve_std(param_values)"
   ]
  },
  {
   "cell_type": "markdown",
   "metadata": {
    "id": "TAU9B-5plG3x"
   },
   "source": [
    "Terlihat ROC-AUC data test selalu di atas data train dengan keadan garis sejajar, sehingga bisa disimpulkan pada metode logistic regression, keadaan selalu underfitting."
   ]
  },
  {
   "cell_type": "code",
   "execution_count": 20,
   "metadata": {
    "colab": {
     "base_uri": "https://localhost:8080/"
    },
    "id": "Oj9ywvsKqW8f",
    "outputId": "cf429437-8fa1-4aef-981c-ebbc89d169fd"
   },
   "outputs": [
    {
     "name": "stdout",
     "output_type": "stream",
     "text": [
      "{'C': 0.028830303030303032, 'class_weight': None, 'dual': False, 'fit_intercept': True, 'intercept_scaling': 1, 'l1_ratio': None, 'max_iter': 100, 'multi_class': 'auto', 'n_jobs': None, 'penalty': 'l2', 'random_state': None, 'solver': 'lbfgs', 'tol': 0.0001, 'verbose': 0, 'warm_start': False}\n"
     ]
    }
   ],
   "source": [
    "show_best_hyperparameter(rss)"
   ]
  },
  {
   "cell_type": "markdown",
   "metadata": {},
   "source": [
    "### Cek Feature Importance"
   ]
  },
  {
   "cell_type": "code",
   "execution_count": 77,
   "metadata": {
    "colab": {
     "base_uri": "https://localhost:8080/",
     "height": 165
    },
    "id": "y-ME-aoQNsRK",
    "outputId": "2db6cf7d-5085-46d0-98da-ef566c34c416"
   },
   "outputs": [
    {
     "data": {
      "text/plain": [
       "array([[ 0.01941908,  0.15201747,  0.06637133, -0.12838992,  0.64570857,\n",
       "        -0.54518458, -0.20421083, -0.15129833, -0.0635537 ,  0.07111631,\n",
       "        -0.02191284,  0.01635733, -0.00204248, -0.02315807,  0.02507309,\n",
       "        -0.0019504 ]])"
      ]
     },
     "execution_count": 77,
     "metadata": {},
     "output_type": "execute_result"
    }
   ],
   "source": [
    "# lihat feature importance lewat coef\n",
    "\n",
    "logregs.coef_"
   ]
  },
  {
   "cell_type": "code",
   "execution_count": 28,
   "metadata": {},
   "outputs": [],
   "source": [
    "# menyimpan array\n",
    "\n",
    "ft_logregs =  np.array([ 0.01941908,  0.15201747,  0.06637133, -0.12838992,  0.64570857,\n",
    "        -0.54518458, -0.20421083, -0.15129833, -0.0635537 ,  0.07111631,\n",
    "        -0.02191284,  0.01635733, -0.00204248, -0.02315807,  0.02507309,\n",
    "        -0.0019504 ])"
   ]
  },
  {
   "cell_type": "code",
   "execution_count": 79,
   "metadata": {},
   "outputs": [
    {
     "data": {
      "text/plain": [
       "Index(['Rating', 'Importance', 'Gender', 'Std_Cost', 'Std_Disc', 'Std_Weight',\n",
       "       'Std_Purchases', 'Std_Calls', 'Warehouse_A', 'Warehouse_B',\n",
       "       'Warehouse_C', 'Warehouse_D', 'Warehouse_F', 'Shipment_Flight',\n",
       "       'Shipment_Road', 'Shipment_Ship'],\n",
       "      dtype='object')"
      ]
     },
     "execution_count": 79,
     "metadata": {},
     "output_type": "execute_result"
    }
   ],
   "source": [
    "# mapping nilai coef dengan featurenya\n",
    "\n",
    "Xs.columns"
   ]
  },
  {
   "cell_type": "code",
   "execution_count": 80,
   "metadata": {},
   "outputs": [
    {
     "data": {
      "text/html": [
       "<div>\n",
       "<style scoped>\n",
       "    .dataframe tbody tr th:only-of-type {\n",
       "        vertical-align: middle;\n",
       "    }\n",
       "\n",
       "    .dataframe tbody tr th {\n",
       "        vertical-align: top;\n",
       "    }\n",
       "\n",
       "    .dataframe thead th {\n",
       "        text-align: right;\n",
       "    }\n",
       "</style>\n",
       "<table border=\"1\" class=\"dataframe\">\n",
       "  <thead>\n",
       "    <tr style=\"text-align: right;\">\n",
       "      <th></th>\n",
       "      <th>Feature Names</th>\n",
       "      <th>Importances</th>\n",
       "    </tr>\n",
       "  </thead>\n",
       "  <tbody>\n",
       "    <tr>\n",
       "      <th>5</th>\n",
       "      <td>Std_Weight</td>\n",
       "      <td>-0.545185</td>\n",
       "    </tr>\n",
       "    <tr>\n",
       "      <th>6</th>\n",
       "      <td>Std_Purchases</td>\n",
       "      <td>-0.204211</td>\n",
       "    </tr>\n",
       "    <tr>\n",
       "      <th>7</th>\n",
       "      <td>Std_Calls</td>\n",
       "      <td>-0.151298</td>\n",
       "    </tr>\n",
       "    <tr>\n",
       "      <th>3</th>\n",
       "      <td>Std_Cost</td>\n",
       "      <td>-0.128390</td>\n",
       "    </tr>\n",
       "    <tr>\n",
       "      <th>8</th>\n",
       "      <td>Warehouse_A</td>\n",
       "      <td>-0.063554</td>\n",
       "    </tr>\n",
       "    <tr>\n",
       "      <th>13</th>\n",
       "      <td>Shipment_Flight</td>\n",
       "      <td>-0.023158</td>\n",
       "    </tr>\n",
       "    <tr>\n",
       "      <th>10</th>\n",
       "      <td>Warehouse_C</td>\n",
       "      <td>-0.021913</td>\n",
       "    </tr>\n",
       "    <tr>\n",
       "      <th>12</th>\n",
       "      <td>Warehouse_F</td>\n",
       "      <td>-0.002042</td>\n",
       "    </tr>\n",
       "    <tr>\n",
       "      <th>15</th>\n",
       "      <td>Shipment_Ship</td>\n",
       "      <td>-0.001950</td>\n",
       "    </tr>\n",
       "    <tr>\n",
       "      <th>11</th>\n",
       "      <td>Warehouse_D</td>\n",
       "      <td>0.016357</td>\n",
       "    </tr>\n",
       "    <tr>\n",
       "      <th>0</th>\n",
       "      <td>Rating</td>\n",
       "      <td>0.019419</td>\n",
       "    </tr>\n",
       "    <tr>\n",
       "      <th>14</th>\n",
       "      <td>Shipment_Road</td>\n",
       "      <td>0.025073</td>\n",
       "    </tr>\n",
       "    <tr>\n",
       "      <th>2</th>\n",
       "      <td>Gender</td>\n",
       "      <td>0.066371</td>\n",
       "    </tr>\n",
       "    <tr>\n",
       "      <th>9</th>\n",
       "      <td>Warehouse_B</td>\n",
       "      <td>0.071116</td>\n",
       "    </tr>\n",
       "    <tr>\n",
       "      <th>1</th>\n",
       "      <td>Importance</td>\n",
       "      <td>0.152017</td>\n",
       "    </tr>\n",
       "    <tr>\n",
       "      <th>4</th>\n",
       "      <td>Std_Disc</td>\n",
       "      <td>0.645709</td>\n",
       "    </tr>\n",
       "  </tbody>\n",
       "</table>\n",
       "</div>"
      ],
      "text/plain": [
       "      Feature Names  Importances\n",
       "5        Std_Weight    -0.545185\n",
       "6     Std_Purchases    -0.204211\n",
       "7         Std_Calls    -0.151298\n",
       "3          Std_Cost    -0.128390\n",
       "8       Warehouse_A    -0.063554\n",
       "13  Shipment_Flight    -0.023158\n",
       "10      Warehouse_C    -0.021913\n",
       "12      Warehouse_F    -0.002042\n",
       "15    Shipment_Ship    -0.001950\n",
       "11      Warehouse_D     0.016357\n",
       "0            Rating     0.019419\n",
       "14    Shipment_Road     0.025073\n",
       "2            Gender     0.066371\n",
       "9       Warehouse_B     0.071116\n",
       "1        Importance     0.152017\n",
       "4          Std_Disc     0.645709"
      ]
     },
     "execution_count": 80,
     "metadata": {},
     "output_type": "execute_result"
    }
   ],
   "source": [
    "# buat dataframe baru yang berisi nama feature beserta nilai koefisiennya\n",
    "\n",
    "dft1 = pd.DataFrame({'Feature Names' : Xs.columns, 'Importances' : ft_logregs}).sort_values(by = 'Importances')\n",
    "dft1"
   ]
  },
  {
   "cell_type": "code",
   "execution_count": 81,
   "metadata": {},
   "outputs": [
    {
     "data": {
      "image/png": "[encoded data removed]",
      "text/plain": [
       "<Figure size 720x576 with 1 Axes>"
      ]
     },
     "metadata": {
      "needs_background": "light"
     },
     "output_type": "display_data"
    }
   ],
   "source": [
    "# membuat plot bar feature importance\n",
    "\n",
    "fig = plt.figure(figsize = (10, 8))\n",
    "plt.barh(dft1['Feature Names'], dft1['Importances'])\n",
    "plt.show()"
   ]
  },
  {
   "cell_type": "markdown",
   "metadata": {},
   "source": [
    "Terlihat feature Discount memiliki koefisien yang paling tinggi dengan korelasi positif, disusul Weight dengan korelasi negatif."
   ]
  },
  {
   "cell_type": "markdown",
   "metadata": {
    "id": "cDZmgXktpwf0"
   },
   "source": [
    "### Fit Modelling Data (Normalization)"
   ]
  },
  {
   "cell_type": "code",
   "execution_count": 24,
   "metadata": {
    "colab": {
     "base_uri": "https://localhost:8080/"
    },
    "id": "w11zNQ0pnav3",
    "outputId": "d8478c4c-fcb9-47ad-d197-e3af2a1c38c5"
   },
   "outputs": [
    {
     "name": "stdout",
     "output_type": "stream",
     "text": [
      "Accuracy (Train Set): 0.62\n",
      "Accuracy (Test Set): 0.63\n",
      "Precision (Train Set): 0.66\n",
      "Precision (Test Set): 0.67\n",
      "Recall (Train Set): 0.74\n",
      "Recall (Test Set): 0.73\n",
      "F1-Score (Train Set): 0.70\n",
      "F1-Score (Test Set): 0.70\n",
      "roc_auc (train-proba): 0.71\n",
      "roc_auc (test-proba): 0.72\n",
      "roc_auc (crossval train): 0.7141127326545897\n",
      "roc_auc (crossval test): 0.6961962492889116\n"
     ]
    }
   ],
   "source": [
    "from sklearn.linear_model import LogisticRegression # import logistic regression dari sklearn\n",
    "logregn = LogisticRegression() # inisiasi object dengan nama logreg\n",
    "logregn.fit(Xn_train, yn_train) # fit model regression dari data train\n",
    "eval_classification_norm(logregn)"
   ]
  },
  {
   "cell_type": "markdown",
   "metadata": {
    "id": "n6QwKWRerIik"
   },
   "source": [
    "Dataset normalisasi memiliki nilai evaluasi yang hampir sama dengan dataset standarisasi, penulis menyimpulkan tidak ada pengaruh signifikan modeling dengan nilai standarisasi atau normalisasi."
   ]
  },
  {
   "cell_type": "markdown",
   "metadata": {
    "id": "A7VYzSDzrVYa"
   },
   "source": [
    "## B. K-Nearest Neighbor"
   ]
  },
  {
   "cell_type": "markdown",
   "metadata": {
    "id": "bMZArseWrVy7"
   },
   "source": [
    "### Fit Modelling (Data Standardization)"
   ]
  },
  {
   "cell_type": "code",
   "execution_count": 25,
   "metadata": {
    "colab": {
     "base_uri": "https://localhost:8080/"
    },
    "id": "sdGE3TTrrnJ_",
    "outputId": "1d0996bd-fc0b-4635-b70a-38c045bfccfa"
   },
   "outputs": [
    {
     "name": "stdout",
     "output_type": "stream",
     "text": [
      "Accuracy (Train Set): 0.77\n",
      "Accuracy (Test Set): 0.62\n",
      "Precision (Train Set): 0.82\n",
      "Precision (Test Set): 0.69\n",
      "Recall (Train Set): 0.77\n",
      "Recall (Test Set): 0.64\n",
      "F1-Score (Train Set): 0.80\n",
      "F1-Score (Test Set): 0.67\n",
      "roc_auc (train-proba): 0.85\n",
      "roc_auc (test-proba): 0.69\n",
      "roc_auc (crossval train): 0.8537416157442796\n",
      "roc_auc (crossval test): 0.683885467380449\n"
     ]
    }
   ],
   "source": [
    "# K-Nearest Neighbor\n",
    "\n",
    "from sklearn.neighbors import KNeighborsClassifier # import knn dari sklearn\n",
    "knns = KNeighborsClassifier() # inisiasi object dengan nama knn\n",
    "knns.fit(Xs_train, ys_train) # fit model KNN dari data train\n",
    "eval_classification_std(knns)"
   ]
  },
  {
   "cell_type": "markdown",
   "metadata": {
    "id": "tarJiaebr4DU"
   },
   "source": [
    "Terlihat overfitting cukup besar, sehingga harus melakukan tuning hyperparameter."
   ]
  },
  {
   "cell_type": "code",
   "execution_count": 28,
   "metadata": {
    "colab": {
     "base_uri": "https://localhost:8080/"
    },
    "id": "lQ5frnCNr6-l",
    "outputId": "eefdaff6-1cd3-4b96-a92d-050f0fd57a2e"
   },
   "outputs": [
    {
     "name": "stdout",
     "output_type": "stream",
     "text": [
      "Accuracy (Train Set): 0.69\n",
      "Accuracy (Test Set): 0.65\n",
      "Precision (Train Set): 0.82\n",
      "Precision (Test Set): 0.77\n",
      "Recall (Train Set): 0.61\n",
      "Recall (Test Set): 0.58\n",
      "F1-Score (Train Set): 0.70\n",
      "F1-Score (Test Set): 0.66\n",
      "roc_auc (train-proba): 0.78\n",
      "roc_auc (test-proba): 0.72\n",
      "roc_auc (crossval train): 0.7828674015776141\n",
      "roc_auc (crossval test): 0.7006896913136376\n"
     ]
    }
   ],
   "source": [
    "from sklearn.model_selection import RandomizedSearchCV\n",
    "\n",
    "n_neighbors = list(range(1,30))\n",
    "p=[1,2]\n",
    "algorithm = ['auto', 'ball_tree', 'kd_tree', 'brute']\n",
    "hyperparameters = dict(n_neighbors=n_neighbors, p=p, algorithm=algorithm)\n",
    "\n",
    "knns.fit(Xs_train, ys_train)\n",
    "rss = RandomizedSearchCV(knns, hyperparameters, scoring='roc_auc', random_state=1, cv=5)\n",
    "rss.fit(Xs_train, ys_train)\n",
    "eval_classification_std(rss)"
   ]
  },
  {
   "cell_type": "markdown",
   "metadata": {
    "id": "gCKHnI8MsG-i"
   },
   "source": [
    "Hasil terlihat jauh lebih bagus namun masih agak overfitting, cek learning curve untuk analisis lebih lanjut."
   ]
  },
  {
   "cell_type": "code",
   "execution_count": 29,
   "metadata": {
    "colab": {
     "base_uri": "https://localhost:8080/",
     "height": 1000
    },
    "id": "iMfyUbUEr9zh",
    "outputId": "a2aa944e-3ba1-42c6-fccd-0616db488a9e"
   },
   "outputs": [
    {
     "name": "stdout",
     "output_type": "stream",
     "text": [
      "param value: 1; train: 1.0; test: 0.6215484012370841\n",
      "param value: 2; train: 0.9255206875993789; test: 0.6644300322858234\n",
      "param value: 3; train: 0.8898919488822182; test: 0.6877135134610531\n",
      "param value: 4; train: 0.8659574436333709; test: 0.692652427583351\n",
      "param value: 5; train: 0.8486357249930794; test: 0.6944966096650427\n",
      "param value: 6; train: 0.8349127629553522; test: 0.7041894333482146\n",
      "param value: 7; train: 0.8278542589570652; test: 0.7040003849712404\n",
      "param value: 8; train: 0.82346871621304; test: 0.7048235036264938\n",
      "param value: 9; train: 0.8159516609100588; test: 0.7074717984303527\n",
      "param value: 10; train: 0.810431547852222; test: 0.7120083529054007\n",
      "param value: 11; train: 0.8058216727515839; test: 0.7148960415898342\n",
      "param value: 12; train: 0.8028705438520698; test: 0.7134898047322347\n",
      "param value: 13; train: 0.7985286886499691; test: 0.7158807106763201\n",
      "param value: 14; train: 0.7965357756571972; test: 0.7172980680266828\n",
      "param value: 15; train: 0.7961742994883595; test: 0.7197441720530291\n",
      "param value: 16; train: 0.7951565774933423; test: 0.7209585298627691\n",
      "param value: 17; train: 0.7912178713758181; test: 0.7200512998440705\n",
      "param value: 18; train: 0.7899466049444895; test: 0.7210853034802694\n",
      "param value: 19; train: 0.7873205397108938; test: 0.7236090487651806\n",
      "param value: 20; train: 0.7842473020797658; test: 0.7215268881383569\n",
      "param value: 21; train: 0.7830994501562827; test: 0.7238071957271427\n",
      "param value: 22; train: 0.7831571281578331; test: 0.7237131770155993\n",
      "param value: 23; train: 0.7828935105905915; test: 0.7238096220164729\n",
      "param value: 24; train: 0.7800905686394334; test: 0.7247785202223129\n",
      "param value: 25; train: 0.7793241526071875; test: 0.725178251389455\n",
      "param value: 26; train: 0.7781381347098454; test: 0.7240544750480405\n",
      "param value: 27; train: 0.7776499982465291; test: 0.7250225644907704\n",
      "param value: 28; train: 0.7752722916522098; test: 0.725042985759299\n",
      "param value: 29; train: 0.7742129713572387; test: 0.7246392107766068\n",
      "param value: 30; train: 0.7739746485410003; test: 0.7241343404051579\n",
      "param value: 31; train: 0.7738491447911839; test: 0.7235010788899888\n",
      "param value: 32; train: 0.7728234762150994; test: 0.7241747785606606\n",
      "param value: 33; train: 0.7719879659662483; test: 0.7234151478095461\n",
      "param value: 34; train: 0.7733086653549213; test: 0.7236743563863169\n",
      "param value: 35; train: 0.7721629772891936; test: 0.7253863056995152\n",
      "param value: 36; train: 0.7714277506549402; test: 0.726278573600678\n",
      "param value: 37; train: 0.7703771977146677; test: 0.7260852792173761\n",
      "param value: 38; train: 0.7701189151760298; test: 0.726699130417904\n",
      "param value: 39; train: 0.7691930452119425; test: 0.7272856858634678\n",
      "param value: 40; train: 0.7698779061915432; test: 0.7270272860498068\n",
      "param value: 41; train: 0.7692665044519509; test: 0.7275271016518178\n",
      "param value: 42; train: 0.7687413958673301; test: 0.72703840654257\n",
      "param value: 43; train: 0.7679121906522838; test: 0.7255543262356283\n",
      "param value: 44; train: 0.767239678585046; test: 0.7262373266820655\n",
      "param value: 45; train: 0.7671283891422095; test: 0.7255256151452215\n",
      "param value: 46; train: 0.7671683458949008; test: 0.7262963663890991\n",
      "param value: 47; train: 0.7666766651818127; test: 0.7275230578362676\n",
      "param value: 48; train: 0.7653596592744809; test: 0.7282256707881235\n",
      "param value: 49; train: 0.7651157402743921; test: 0.7274626027937913\n",
      "param value: 50; train: 0.7642787750177399; test: 0.7277117018316867\n",
      "param value: 51; train: 0.7633160821639174; test: 0.7291502892136881\n",
      "param value: 52; train: 0.7631351388860909; test: 0.7294782426548134\n",
      "param value: 53; train: 0.7624528148431687; test: 0.7283570947935066\n",
      "param value: 54; train: 0.762143047413108; test: 0.7284834640294519\n",
      "param value: 55; train: 0.7612421737368855; test: 0.7292184275057098\n",
      "param value: 56; train: 0.7606754295444184; test: 0.729577922708127\n",
      "param value: 57; train: 0.7602468737851618; test: 0.729713592719838\n",
      "param value: 58; train: 0.7604065888722497; test: 0.7301628606274707\n",
      "param value: 59; train: 0.7611079399402626; test: 0.7293247798546815\n",
      "param value: 60; train: 0.7604765784782708; test: 0.7292687730093105\n",
      "param value: 61; train: 0.7599020742441981; test: 0.7295221180535336\n",
      "param value: 62; train: 0.7592569088620421; test: 0.7283148369210065\n",
      "param value: 63; train: 0.7592387399184748; test: 0.7287125461803736\n",
      "param value: 64; train: 0.7585007898080809; test: 0.729083161875554\n",
      "param value: 65; train: 0.7579112878012892; test: 0.7295429437036174\n",
      "param value: 66; train: 0.7582979467974532; test: 0.7295025055481149\n",
      "param value: 67; train: 0.7585771217557989; test: 0.7304370313217777\n",
      "param value: 68; train: 0.7584746742834461; test: 0.7298148902993719\n",
      "param value: 69; train: 0.7583314865926627; test: 0.7297311833174815\n",
      "param value: 70; train: 0.758507729076055; test: 0.728360329845947\n",
      "param value: 71; train: 0.7577543708061265; test: 0.7290732545274557\n",
      "param value: 72; train: 0.7577736216785718; test: 0.7287932203006012\n",
      "param value: 73; train: 0.7578781210850031; test: 0.7281415594246783\n",
      "param value: 74; train: 0.7577367614809442; test: 0.7284771961153491\n",
      "param value: 75; train: 0.7578198088492828; test: 0.7266570747361815\n",
      "param value: 76; train: 0.7578482747711348; test: 0.7267514978292797\n",
      "param value: 77; train: 0.7573609590814498; test: 0.7274373289466023\n",
      "param value: 78; train: 0.7578435366688082; test: 0.7278243220947611\n",
      "param value: 79; train: 0.7579797477837246; test: 0.7280986949798456\n",
      "param value: 80; train: 0.7578196596177135; test: 0.7282070692365924\n",
      "param value: 81; train: 0.7578422682004688; test: 0.7289875256377907\n",
      "param value: 82; train: 0.7576059600104164; test: 0.7291003480916426\n",
      "param value: 83; train: 0.7576048407736464; test: 0.7291225890771689\n",
      "param value: 84; train: 0.7568247327449132; test: 0.7287515690004336\n",
      "param value: 85; train: 0.7564340818042694; test: 0.7275368068091383\n",
      "param value: 86; train: 0.7562483258083315; test: 0.7278459565079549\n",
      "param value: 87; train: 0.7563080184360681; test: 0.7270307232930245\n",
      "param value: 88; train: 0.7565216061196882; test: 0.7265533508673176\n",
      "param value: 89; train: 0.7562909687292708; test: 0.7256707881234754\n",
      "param value: 90; train: 0.7569778443350578; test: 0.7253028009084026\n",
      "param value: 91; train: 0.7556637857512205; test: 0.7251972573225411\n",
      "param value: 92; train: 0.7557684716971137; test: 0.7252213180250653\n",
      "param value: 93; train: 0.7560018325636715; test: 0.7257627849272437\n",
      "param value: 94; train: 0.7553144719552844; test: 0.7260567703177468\n",
      "param value: 95; train: 0.7548208139239023; test: 0.7262094243547689\n",
      "param value: 96; train: 0.7546546445714405; test: 0.7260978150455817\n",
      "param value: 97; train: 0.7545207465458488; test: 0.7269051628201894\n",
      "param value: 98; train: 0.7545879380599447; test: 0.7264848081937408\n",
      "param value: 99; train: 0.7538346544058009; test: 0.7261764672580344\n",
      "param value: 100; train: 0.7541651277161079; test: 0.7261538218909528\n"
     ]
    },
    {
     "data": {
      "image/png": "[encoded data removed]",
      "text/plain": [
       "<Figure size 432x288 with 1 Axes>"
      ]
     },
     "metadata": {
      "needs_background": "light"
     },
     "output_type": "display_data"
    }
   ],
   "source": [
    "import numpy as np\n",
    "from matplotlib import pyplot as plt\n",
    "from sklearn.neighbors import KNeighborsClassifier\n",
    "\n",
    "def draw_learning_curve_knn(param_values):\n",
    "    train_scores = []\n",
    "    test_scores = []\n",
    "\n",
    "    for i in param_values:\n",
    "        model = KNeighborsClassifier(n_neighbors=i)\n",
    "        model.fit(Xs_train, ys_train)\n",
    "\n",
    "        # eval on train\n",
    "        ys_pred_train_proba = model.predict_proba(Xs_train)\n",
    "        train_auc = roc_auc_score(ys_train, ys_pred_train_proba[:,1])\n",
    "        train_scores.append(train_auc)\n",
    "\n",
    "        # eval on test\n",
    "        ys_pred_proba = model.predict_proba(Xs_test)\n",
    "        test_auc = roc_auc_score(ys_test, ys_pred_proba[:,1])\n",
    "        test_scores.append(test_auc)\n",
    "\n",
    "        print('param value: ' + str(i) + '; train: ' + str(train_auc) + '; test: '+ str(test_auc))\n",
    "\n",
    "    plt.plot(param_values, train_scores, label='Train')\n",
    "    plt.plot(param_values, test_scores, label='Test')\n",
    "    plt.xlabel('k')\n",
    "    plt.ylabel('AUC')\n",
    "    plt.title('Learning Curve')\n",
    "    plt.legend()\n",
    "    plt.show()\n",
    "\n",
    "param_values = [int(x) for x in np.linspace(1, 100, 100)]\n",
    "draw_learning_curve_knn(param_values)"
   ]
  },
  {
   "cell_type": "markdown",
   "metadata": {
    "id": "71mQicIOtMTv"
   },
   "source": [
    "Pada nilai k di antara 60 dan 100 kemungkinan best fit (AUC data train sedikit lebih besar daripada data test)"
   ]
  },
  {
   "cell_type": "code",
   "execution_count": 30,
   "metadata": {
    "colab": {
     "base_uri": "https://localhost:8080/",
     "height": 989
    },
    "id": "77_cauoKtM78",
    "outputId": "e6cbca7a-2453-4dc4-c909-532657e0c64c"
   },
   "outputs": [
    {
     "name": "stdout",
     "output_type": "stream",
     "text": [
      "param value: 60; train: 0.7604765784782708; test: 0.7292687730093105\n",
      "param value: 61; train: 0.7599020742441981; test: 0.7295221180535336\n",
      "param value: 62; train: 0.7592569088620421; test: 0.7283148369210065\n",
      "param value: 63; train: 0.7592387399184748; test: 0.7287125461803736\n",
      "param value: 64; train: 0.7585007898080809; test: 0.729083161875554\n",
      "param value: 65; train: 0.7579112878012892; test: 0.7295429437036174\n",
      "param value: 66; train: 0.7582979467974532; test: 0.7295025055481149\n",
      "param value: 67; train: 0.7585771217557989; test: 0.7304370313217777\n",
      "param value: 68; train: 0.7584746742834461; test: 0.7298148902993719\n",
      "param value: 69; train: 0.7583314865926627; test: 0.7297311833174815\n",
      "param value: 70; train: 0.758507729076055; test: 0.728360329845947\n",
      "param value: 71; train: 0.7577543708061265; test: 0.7290732545274557\n",
      "param value: 72; train: 0.7577736216785718; test: 0.7287932203006012\n",
      "param value: 73; train: 0.7578781210850031; test: 0.7281415594246783\n",
      "param value: 74; train: 0.7577367614809442; test: 0.7284771961153491\n",
      "param value: 75; train: 0.7578198088492828; test: 0.7266570747361815\n",
      "param value: 76; train: 0.7578482747711348; test: 0.7267514978292797\n",
      "param value: 77; train: 0.7573609590814498; test: 0.7274373289466023\n",
      "param value: 78; train: 0.7578435366688082; test: 0.7278243220947611\n",
      "param value: 79; train: 0.7579797477837246; test: 0.7280986949798456\n",
      "param value: 80; train: 0.7578196596177135; test: 0.7282070692365924\n",
      "param value: 81; train: 0.7578422682004688; test: 0.7289875256377907\n",
      "param value: 82; train: 0.7576059600104164; test: 0.7291003480916426\n",
      "param value: 83; train: 0.7576048407736464; test: 0.7291225890771689\n",
      "param value: 84; train: 0.7568247327449132; test: 0.7287515690004336\n",
      "param value: 85; train: 0.7564340818042694; test: 0.7275368068091383\n",
      "param value: 86; train: 0.7562483258083315; test: 0.7278459565079549\n",
      "param value: 87; train: 0.7563080184360681; test: 0.7270307232930245\n",
      "param value: 88; train: 0.7565216061196882; test: 0.7265533508673176\n",
      "param value: 89; train: 0.7562909687292708; test: 0.7256707881234754\n",
      "param value: 90; train: 0.7569778443350578; test: 0.7253028009084026\n",
      "param value: 91; train: 0.7556637857512205; test: 0.7251972573225411\n",
      "param value: 92; train: 0.7557684716971137; test: 0.7252213180250653\n",
      "param value: 93; train: 0.7560018325636715; test: 0.7257627849272437\n",
      "param value: 94; train: 0.7553144719552844; test: 0.7260567703177468\n",
      "param value: 95; train: 0.7548208139239023; test: 0.7262094243547689\n",
      "param value: 96; train: 0.7546546445714405; test: 0.7260978150455817\n",
      "param value: 97; train: 0.7545207465458488; test: 0.7269051628201894\n",
      "param value: 98; train: 0.7545879380599447; test: 0.7264848081937408\n",
      "param value: 100; train: 0.7541651277161079; test: 0.7261538218909528\n"
     ]
    },
    {
     "data": {
      "image/png": "[encoded data removed]",
      "text/plain": [
       "<Figure size 432x288 with 1 Axes>"
      ]
     },
     "metadata": {
      "needs_background": "light"
     },
     "output_type": "display_data"
    }
   ],
   "source": [
    "param_values = [int(x) for x in np.linspace(60, 100, 40)]\n",
    "draw_learning_curve_knn(param_values)"
   ]
  },
  {
   "cell_type": "markdown",
   "metadata": {
    "id": "NklFav8ktjOM"
   },
   "source": [
    "Pada k = 83 sudah bestfit. Masukan nilai k = 83 pada parameter n_neighbors."
   ]
  },
  {
   "cell_type": "code",
   "execution_count": 31,
   "metadata": {
    "colab": {
     "base_uri": "https://localhost:8080/"
    },
    "id": "4hPy3QFctYIs",
    "outputId": "2e7840c8-5513-48a9-d5b8-37112904ffa8"
   },
   "outputs": [
    {
     "name": "stdout",
     "output_type": "stream",
     "text": [
      "Accuracy (Train Set): 0.68\n",
      "Accuracy (Test Set): 0.66\n",
      "Precision (Train Set): 0.81\n",
      "Precision (Test Set): 0.78\n",
      "Recall (Train Set): 0.60\n",
      "Recall (Test Set): 0.58\n",
      "F1-Score (Train Set): 0.69\n",
      "F1-Score (Test Set): 0.66\n",
      "roc_auc (train-proba): 0.76\n",
      "roc_auc (test-proba): 0.72\n",
      "roc_auc (crossval train): 0.7600115917437913\n",
      "roc_auc (crossval test): 0.6980354862445988\n"
     ]
    }
   ],
   "source": [
    "from sklearn.model_selection import RandomizedSearchCV\n",
    "\n",
    "n_neighbors = [83]\n",
    "p=[1,2]\n",
    "algorithm = ['auto', 'ball_tree', 'kd_tree', 'brute']\n",
    "hyperparameters = dict(n_neighbors=n_neighbors, p=p, algorithm=algorithm)\n",
    "\n",
    "knns.fit(Xs_train, ys_train)\n",
    "rss = RandomizedSearchCV(knns, hyperparameters, scoring='roc_auc', random_state=1, cv=5)\n",
    "rss.fit(Xs_train, ys_train)\n",
    "eval_classification_std(rss)"
   ]
  },
  {
   "cell_type": "code",
   "execution_count": null,
   "metadata": {},
   "outputs": [],
   "source": [
    "ROC-AUC pada data train dan data test sudah bestfit."
   ]
  },
  {
   "cell_type": "code",
   "execution_count": 36,
   "metadata": {},
   "outputs": [
    {
     "name": "stdout",
     "output_type": "stream",
     "text": [
      "{'algorithm': 'auto', 'leaf_size': 30, 'metric': 'minkowski', 'metric_params': None, 'n_jobs': None, 'n_neighbors': 83, 'p': 1, 'weights': 'uniform'}\n"
     ]
    }
   ],
   "source": [
    "# cek parameter yang digunakan pada tuning hyperparameter\n",
    "\n",
    "show_best_hyperparameter(rss)"
   ]
  },
  {
   "cell_type": "markdown",
   "metadata": {
    "id": "BvnuguaIu80j"
   },
   "source": [
    "### Fit Modelling (Data Normalization)"
   ]
  },
  {
   "cell_type": "code",
   "execution_count": 32,
   "metadata": {
    "colab": {
     "base_uri": "https://localhost:8080/"
    },
    "id": "S92DOZAdtv3B",
    "outputId": "f898aa21-1322-47f5-927e-7d7d3ad735a6"
   },
   "outputs": [
    {
     "name": "stdout",
     "output_type": "stream",
     "text": [
      "Accuracy (Train Set): 0.75\n",
      "Accuracy (Test Set): 0.60\n",
      "Precision (Train Set): 0.80\n",
      "Precision (Test Set): 0.66\n",
      "Recall (Train Set): 0.78\n",
      "Recall (Test Set): 0.67\n",
      "F1-Score (Train Set): 0.79\n",
      "F1-Score (Test Set): 0.66\n",
      "roc_auc (train-proba): 0.83\n",
      "roc_auc (test-proba): 0.65\n",
      "roc_auc (crossval train): 0.8339882708732429\n",
      "roc_auc (crossval test): 0.6224328960590518\n"
     ]
    }
   ],
   "source": [
    "# KNN\n",
    "from sklearn.neighbors import KNeighborsClassifier # import knn dari sklearn\n",
    "knn = KNeighborsClassifier() # inisiasi object dengan nama knn\n",
    "knn.fit(Xn_train, yn_train) # fit model KNN dari data train\n",
    "eval_classification_norm(knn)"
   ]
  },
  {
   "cell_type": "markdown",
   "metadata": {},
   "source": [
    "Dataset normalisasi memiliki nilai evaluasi yang hampir sama dengan dataset standarisasi, penulis menyimpulkan tidak ada pengaruh signifikan modeling dengan nilai standarisasi atau normalisasi."
   ]
  },
  {
   "cell_type": "markdown",
   "metadata": {
    "id": "ScI6dDLovREJ"
   },
   "source": [
    "## C. Decision Tree"
   ]
  },
  {
   "cell_type": "markdown",
   "metadata": {
    "id": "yECDKAc5vak0"
   },
   "source": [
    "### Fit Modelling (Data Standardization)"
   ]
  },
  {
   "cell_type": "code",
   "execution_count": 92,
   "metadata": {
    "colab": {
     "base_uri": "https://localhost:8080/"
    },
    "id": "hLxVrR-QvjC_",
    "outputId": "09a16b72-b7b1-4ea0-9e61-6f1daa721f8a"
   },
   "outputs": [
    {
     "name": "stdout",
     "output_type": "stream",
     "text": [
      "Accuracy (Train Set): 1.00\n",
      "Accuracy (Test Set): 0.64\n",
      "Precision (Train Set): 1.00\n",
      "Precision (Test Set): 0.69\n",
      "Recall (Train Set): 1.00\n",
      "Recall (Test Set): 0.71\n",
      "F1-Score (Train Set): 1.00\n",
      "F1-Score (Test Set): 0.70\n",
      "roc_auc (train-proba): 1.00\n",
      "roc_auc (test-proba): 0.63\n",
      "roc_auc (crossval train): 1.0\n",
      "roc_auc (crossval test): 0.6060075683924363\n"
     ]
    }
   ],
   "source": [
    "# Decision Tree\n",
    "\n",
    "from sklearn.tree import DecisionTreeClassifier # import decision tree dari sklearn\n",
    "dts = DecisionTreeClassifier() # inisiasi object dengan nama dt\n",
    "dts.fit(Xs_train, ys_train) # fit model decision tree dari data train\n",
    "eval_classification_std(dts)"
   ]
  },
  {
   "cell_type": "markdown",
   "metadata": {
    "id": "QhTe1_A6voE8"
   },
   "source": [
    "Overfitting, lakukan hyperparameter tuning "
   ]
  },
  {
   "cell_type": "markdown",
   "metadata": {},
   "source": [
    "### Cek Feature Importance"
   ]
  },
  {
   "cell_type": "code",
   "execution_count": 99,
   "metadata": {},
   "outputs": [],
   "source": [
    "def show_feature_importance_std(model):\n",
    "    feat_importances = pd.Series(model.feature_importances_, index=Xs.columns)\n",
    "    ax = feat_importances.nlargest(25).plot(kind='barh', figsize=(10, 8))\n",
    "    ax.invert_yaxis()\n",
    "\n",
    "    plt.xlabel('score')\n",
    "    plt.ylabel('feature')\n",
    "    plt.title('feature importance score')\n"
   ]
  },
  {
   "cell_type": "code",
   "execution_count": 100,
   "metadata": {},
   "outputs": [
    {
     "data": {
      "image/png": "[encoded data removed]",
      "text/plain": [
       "<Figure size 720x576 with 1 Axes>"
      ]
     },
     "metadata": {
      "needs_background": "light"
     },
     "output_type": "display_data"
    }
   ],
   "source": [
    "show_feature_importance_std(dts)"
   ]
  },
  {
   "cell_type": "markdown",
   "metadata": {},
   "source": [
    "Feature diskon, weight, cost, purchases rating dan calls terlihat punya pengaruh yang cukup besar terhadap target dibanding feature lainnya."
   ]
  },
  {
   "cell_type": "markdown",
   "metadata": {},
   "source": [
    "### Hyperparameter Tuning"
   ]
  },
  {
   "cell_type": "code",
   "execution_count": 35,
   "metadata": {
    "colab": {
     "base_uri": "https://localhost:8080/"
    },
    "id": "4DqpdkzRvnSt",
    "outputId": "12f11a5d-8bdf-43c1-979b-9aeb1c413df7"
   },
   "outputs": [
    {
     "name": "stdout",
     "output_type": "stream",
     "text": [
      "Accuracy (Train Set): 0.70\n",
      "Accuracy (Test Set): 0.65\n",
      "Precision (Train Set): 0.80\n",
      "Precision (Test Set): 0.75\n",
      "Recall (Train Set): 0.65\n",
      "Recall (Test Set): 0.61\n",
      "F1-Score (Train Set): 0.72\n",
      "F1-Score (Test Set): 0.67\n",
      "roc_auc (train-proba): 0.79\n",
      "roc_auc (test-proba): 0.72\n",
      "roc_auc (crossval train): 0.826116955620767\n",
      "roc_auc (crossval test): 0.7009517122799869\n"
     ]
    }
   ],
   "source": [
    "from sklearn.model_selection import RandomizedSearchCV, GridSearchCV\n",
    "from scipy.stats import uniform\n",
    "import numpy as np\n",
    "\n",
    "# List of hyperparameter\n",
    "max_depth = [int(x) for x in np.linspace(1, 110, num = 30)] # Maximum number of levels in tree\n",
    "min_samples_split = [2, 5, 10, 100] # Minimum number of samples required to split a node\n",
    "min_samples_leaf = [1, 2, 4, 10, 20, 50] # Minimum number of samples required at each leaf node\n",
    "max_features = ['auto', 'sqrt'] # Number of features to consider at every split\n",
    "criterion = ['gini','entropy']\n",
    "splitter = ['best','random']\n",
    "\n",
    "hyperparameters = dict(max_depth=max_depth, \n",
    "                       min_samples_split=min_samples_split, \n",
    "                       min_samples_leaf=min_samples_leaf,\n",
    "                       max_features=max_features,\n",
    "                       criterion=criterion,\n",
    "                       splitter=splitter\n",
    "                      )\n",
    "\n",
    "# Inisialisasi Model\n",
    "dts = DecisionTreeClassifier(random_state=42)\n",
    "model = RandomizedSearchCV(dts, hyperparameters, cv=5, scoring='roc_auc', random_state = 42)\n",
    "model.fit(Xs_train, ys_train)\n",
    "\n",
    "# Predict & Evaluation\n",
    "ys_pred = model.predict(Xs_test)#Check performa dari model\n",
    "eval_classification_std(model)"
   ]
  },
  {
   "cell_type": "markdown",
   "metadata": {
    "id": "4YpUoJmCvbmS"
   },
   "source": [
    "ROC-AUC menjadi lebih baik setelah tuning hyperparameter, namun masih agak overfitting, selanjutnya coba analisa dlearning curve untuk medapat parameter yang tepat."
   ]
  },
  {
   "cell_type": "code",
   "execution_count": 60,
   "metadata": {
    "colab": {
     "base_uri": "https://localhost:8080/",
     "height": 1000
    },
    "id": "6O2LCb8AwTwZ",
    "outputId": "ed6643e5-c0dc-4956-8b05-5c34654d4f47"
   },
   "outputs": [
    {
     "name": "stdout",
     "output_type": "stream",
     "text": [
      "param value: 1; train: 1.0; test: 0.6275787411763946\n",
      "param value: 2; train: 0.9929214243556367; test: 0.6505666194349011\n",
      "param value: 3; train: 0.9766772695696684; test: 0.6670176698564284\n",
      "param value: 4; train: 0.9609051715454198; test: 0.6840526472434117\n",
      "param value: 5; train: 0.94532938765064; test: 0.6946274270980932\n",
      "param value: 6; train: 0.932275542661948; test: 0.702117988832599\n",
      "param value: 7; train: 0.9220227742297973; test: 0.694922019060929\n",
      "param value: 8; train: 0.9120608581262932; test: 0.7098683657162081\n",
      "param value: 9; train: 0.9028494275850079; test: 0.720874418499324\n",
      "param value: 10; train: 0.8946219180882838; test: 0.7218669730261327\n",
      "param value: 11; train: 0.8879746962951024; test: 0.7254906361407119\n",
      "param value: 12; train: 0.8807258101222281; test: 0.7246007945288793\n",
      "param value: 13; train: 0.8754449152700456; test: 0.7129129544439916\n",
      "param value: 14; train: 0.8725716852497278; test: 0.7170914290520649\n",
      "param value: 15; train: 0.8691401053127185; test: 0.7155816705163792\n",
      "param value: 16; train: 0.8649809841672765; test: 0.716307939789204\n",
      "param value: 17; train: 0.8625641042860053; test: 0.7143610447925361\n",
      "param value: 18; train: 0.8572456776941334; test: 0.719727592409273\n",
      "param value: 19; train: 0.8546150235897803; test: 0.7206087398176725\n",
      "param value: 20; train: 0.8508476726217524; test: 0.7216562902359646\n",
      "param value: 21; train: 0.8486850087188542; test: 0.7207409725861655\n",
      "param value: 22; train: 0.8453546077858587; test: 0.7231575567589951\n",
      "param value: 23; train: 0.8431957492879789; test: 0.7293247798546815\n",
      "param value: 24; train: 0.8402339130233644; test: 0.7278178519898808\n",
      "param value: 25; train: 0.8376581015207444; test: 0.7251376110431751\n",
      "param value: 26; train: 0.8358468033478611; test: 0.7224866877592085\n",
      "param value: 27; train: 0.835001630354895; test: 0.7211405015625304\n",
      "param value: 28; train: 0.8329269011542315; test: 0.7247261528109371\n",
      "param value: 29; train: 0.8288100125429134; test: 0.7277288880477752\n",
      "param value: 30; train: 0.8272062954829842; test: 0.729350660274203\n",
      "param value: 31; train: 0.8259962139950857; test: 0.7287133549434837\n",
      "param value: 32; train: 0.824695660868274; test: 0.7276799578796173\n",
      "param value: 33; train: 0.8249692396427694; test: 0.7285194539878491\n",
      "param value: 34; train: 0.8226321240353113; test: 0.726527470447796\n",
      "param value: 35; train: 0.8209506946356475; test: 0.7275345827105858\n",
      "param value: 36; train: 0.8189024167306498; test: 0.727135053734221\n",
      "param value: 37; train: 0.8178150782085347; test: 0.7279452321797136\n",
      "param value: 38; train: 0.8166853952286189; test: 0.7287996904054814\n",
      "param value: 39; train: 0.8156690536256184; test: 0.7301939980072076\n",
      "param value: 40; train: 0.8144089049462058; test: 0.7301282860045161\n",
      "param value: 41; train: 0.8141241338040097; test: 0.7382553443066311\n",
      "param value: 42; train: 0.813252621439055; test: 0.73888294448003\n",
      "param value: 43; train: 0.8106482693987982; test: 0.7266582878808465\n",
      "param value: 44; train: 0.8103362261873049; test: 0.7272268483472116\n",
      "param value: 45; train: 0.8098445827821092; test: 0.7273402773733962\n",
      "param value: 46; train: 0.8097447095543273; test: 0.7269921048545197\n",
      "param value: 47; train: 0.8086734134259166; test: 0.7275802778263036\n",
      "param value: 48; train: 0.807799252200606; test: 0.7268988949060864\n",
      "param value: 49; train: 0.8071484533267075; test: 0.7293534909450882\n",
      "param value: 50; train: 0.8065634282669961; test: 0.727343714616614\n",
      "param value: 51; train: 0.8061261797688253; test: 0.7265240332045781\n",
      "param value: 52; train: 0.8058815519187821; test: 0.7262195338936442\n",
      "param value: 53; train: 0.8046588603632744; test: 0.7232194271369139\n",
      "param value: 54; train: 0.8042798121771468; test: 0.7222968306191243\n",
      "param value: 55; train: 0.8033337959511981; test: 0.7242926557839502\n",
      "param value: 56; train: 0.8027225807510676; test: 0.7239966484856719\n",
      "param value: 57; train: 0.8018102908597902; test: 0.7251503490621584\n",
      "param value: 58; train: 0.8014771313812352; test: 0.7238407593962098\n",
      "param value: 59; train: 0.7996274060792464; test: 0.7274745320496645\n",
      "param value: 60; train: 0.7995464479528788; test: 0.7291759674424323\n",
      "param value: 61; train: 0.7991063267469981; test: 0.7288000947870366\n",
      "param value: 62; train: 0.7989415004786602; test: 0.7250898940196819\n",
      "param value: 63; train: 0.7980035054495638; test: 0.7245312409014151\n",
      "param value: 64; train: 0.7962100404492167; test: 0.7242386708463544\n",
      "param value: 65; train: 0.7961419162378124; test: 0.7246418392567143\n",
      "param value: 66; train: 0.7946598602147891; test: 0.722858920980609\n",
      "param value: 67; train: 0.7944814538736411; test: 0.7228480026786234\n",
      "param value: 68; train: 0.7937340275585937; test: 0.7226884741551659\n",
      "param value: 69; train: 0.7934871239271182; test: 0.7221389196218869\n",
      "param value: 70; train: 0.7932255582939549; test: 0.7229784157301189\n",
      "param value: 71; train: 0.792598860318505; test: 0.7244556215506253\n",
      "param value: 72; train: 0.7917784970739418; test: 0.723530800934283\n",
      "param value: 73; train: 0.7913185653772313; test: 0.7248911404853873\n",
      "param value: 74; train: 0.7911825034938842; test: 0.725322211223044\n",
      "param value: 75; train: 0.7911682145711196; test: 0.7252552860756873\n",
      "param value: 76; train: 0.7907320480018265; test: 0.7289389998511876\n",
      "param value: 77; train: 0.7903428147610915; test: 0.7295920760625529\n",
      "param value: 78; train: 0.7901351590323527; test: 0.7297930536954004\n",
      "param value: 79; train: 0.7896275851571296; test: 0.7300955310985591\n",
      "param value: 80; train: 0.789445186871502; test: 0.7298636182767522\n",
      "param value: 81; train: 0.7890222272960956; test: 0.7290572814560323\n",
      "param value: 82; train: 0.7888945223806315; test: 0.7287792691369527\n",
      "param value: 83; train: 0.7885592736601058; test: 0.7285768761686627\n",
      "param value: 84; train: 0.7885086468502066; test: 0.7287479295664382\n",
      "param value: 85; train: 0.7882534981745248; test: 0.729099337137755\n",
      "param value: 86; train: 0.7880916565375738; test: 0.7282410372872143\n",
      "param value: 87; train: 0.7880686002601105; test: 0.7279383576932783\n",
      "param value: 88; train: 0.787840052111664; test: 0.7263701660228913\n",
      "param value: 89; train: 0.7877764048473398; test: 0.7264453809921259\n",
      "param value: 90; train: 0.7864950652850807; test: 0.7262417748791706\n",
      "param value: 91; train: 0.7860007730195292; test: 0.7274078090930852\n",
      "param value: 92; train: 0.785900526712824; test: 0.7275246753624875\n",
      "param value: 93; train: 0.7851200456051676; test: 0.7271667976862903\n",
      "param value: 94; train: 0.7849241418625144; test: 0.7265478917163246\n",
      "param value: 95; train: 0.7847143222760202; test: 0.726764640229818\n",
      "param value: 96; train: 0.7846287752788952; test: 0.7260614207056295\n",
      "param value: 97; train: 0.7842736041438622; test: 0.7259667954217537\n",
      "param value: 98; train: 0.7842684929626123; test: 0.7259667954217537\n",
      "param value: 99; train: 0.7842633817813623; test: 0.7259425325284523\n",
      "param value: 100; train: 0.7841298568346939; test: 0.7246901628525397\n"
     ]
    },
    {
     "data": {
      "image/png": "[encoded data removed]",
      "text/plain": [
       "<Figure size 432x288 with 1 Axes>"
      ]
     },
     "metadata": {
      "needs_background": "light"
     },
     "output_type": "display_data"
    }
   ],
   "source": [
    "# Analyzing Learning Curve\n",
    "from sklearn.tree import DecisionTreeClassifier\n",
    "import numpy as np\n",
    "from matplotlib import pyplot as plt\n",
    "\n",
    "def draw_learning_curve_dt(param_values):\n",
    "    train_scores = []\n",
    "    test_scores = []\n",
    "\n",
    "    for i in param_values:\n",
    "        model = DecisionTreeClassifier(min_samples_leaf=i) #bahan tuning\n",
    "        model.fit(Xs_train, ys_train)\n",
    "\n",
    "        # eval on train\n",
    "        ys_pred_train_proba = model.predict_proba(Xs_train)\n",
    "        train_auc = roc_auc_score(ys_train, ys_pred_train_proba[:,1])\n",
    "        train_scores.append(train_auc)\n",
    "\n",
    "        # eval on test\n",
    "        ys_pred_proba = model.predict_proba(Xs_test)\n",
    "        test_auc = roc_auc_score(ys_test, ys_pred_proba[:,1])\n",
    "        test_scores.append(test_auc)\n",
    "\n",
    "        print('param value: ' + str(i) + '; train: ' + str(train_auc) + '; test: '+ str(test_auc))\n",
    "\n",
    "    plt.plot(param_values, train_scores, label='Train')\n",
    "    plt.plot(param_values, test_scores, label='Test')\n",
    "    plt.xlabel('k')\n",
    "    plt.ylabel('AUC')\n",
    "    plt.title('Learning Curve')\n",
    "    plt.legend()\n",
    "    plt.show()\n",
    "\n",
    "param_values = [int(x) for x in np.linspace(1, 100, 100)]\n",
    "draw_learning_curve_dt(param_values)"
   ]
  },
  {
   "cell_type": "markdown",
   "metadata": {
    "id": "oTvlYzwzwvnH"
   },
   "source": [
    "Cek nilai k di sekitar 80 dimana selisih ROC AUC data train dan data test tidak terlalu besar (bestfit)."
   ]
  },
  {
   "cell_type": "code",
   "execution_count": 61,
   "metadata": {
    "colab": {
     "base_uri": "https://localhost:8080/",
     "height": 642
    },
    "id": "fYWt7_AKxhH_",
    "outputId": "231a4556-b2d6-43ef-c3af-f9a00ea7e0b4"
   },
   "outputs": [
    {
     "name": "stdout",
     "output_type": "stream",
     "text": [
      "param value: 70; train: 0.7932255582939549; test: 0.7229784157301189\n",
      "param value: 71; train: 0.792598860318505; test: 0.7244556215506253\n",
      "param value: 72; train: 0.7917784970739418; test: 0.723530800934283\n",
      "param value: 73; train: 0.7913185653772313; test: 0.7248911404853873\n",
      "param value: 74; train: 0.7911825034938842; test: 0.725322211223044\n",
      "param value: 75; train: 0.7911682145711196; test: 0.7252552860756873\n",
      "param value: 76; train: 0.7907320480018265; test: 0.7289389998511876\n",
      "param value: 77; train: 0.7903428147610915; test: 0.7295920760625529\n",
      "param value: 78; train: 0.7901351590323527; test: 0.7297930536954004\n",
      "param value: 79; train: 0.7896275851571296; test: 0.7300955310985591\n",
      "param value: 80; train: 0.789445186871502; test: 0.7298636182767522\n",
      "param value: 81; train: 0.7890222272960956; test: 0.7290572814560323\n",
      "param value: 82; train: 0.7888945223806315; test: 0.7287792691369527\n",
      "param value: 83; train: 0.7885592736601058; test: 0.7285768761686627\n",
      "param value: 84; train: 0.7885086468502066; test: 0.72832919246621\n",
      "param value: 85; train: 0.7882534981745248; test: 0.729099337137755\n",
      "param value: 86; train: 0.7880916565375738; test: 0.7282410372872143\n",
      "param value: 87; train: 0.7880686002601105; test: 0.7279383576932783\n",
      "param value: 88; train: 0.787840052111664; test: 0.7263701660228913\n",
      "param value: 90; train: 0.7864950652850807; test: 0.7262417748791706\n"
     ]
    },
    {
     "data": {
      "image/png": "[encoded data removed]",
      "text/plain": [
       "<Figure size 432x288 with 1 Axes>"
      ]
     },
     "metadata": {
      "needs_background": "light"
     },
     "output_type": "display_data"
    }
   ],
   "source": [
    "# Analyzing Learning Curve\n",
    "from sklearn.tree import DecisionTreeClassifier\n",
    "import numpy as np\n",
    "from matplotlib import pyplot as plt\n",
    "\n",
    "def draw_learning_curve_dt(param_values):\n",
    "    train_scores = []\n",
    "    test_scores = []\n",
    "\n",
    "    for i in param_values:\n",
    "        model = DecisionTreeClassifier(min_samples_leaf=i)\n",
    "        model.fit(Xs_train, ys_train)\n",
    "\n",
    "        # eval on train\n",
    "        ys_pred_train_proba = model.predict_proba(Xs_train)\n",
    "        train_auc = roc_auc_score(ys_train, ys_pred_train_proba[:,1])\n",
    "        train_scores.append(train_auc)\n",
    "\n",
    "        # eval on test\n",
    "        ys_pred_proba = model.predict_proba(Xs_test)\n",
    "        test_auc = roc_auc_score(ys_test, ys_pred_proba[:,1])\n",
    "        test_scores.append(test_auc)\n",
    "\n",
    "        print('param value: ' + str(i) + '; train: ' + str(train_auc) + '; test: '+ str(test_auc))\n",
    "\n",
    "    plt.plot(param_values, train_scores, label='Train')\n",
    "    plt.plot(param_values, test_scores, label='Test')\n",
    "    plt.xlabel('k')\n",
    "    plt.ylabel('AUC')\n",
    "    plt.title('Learning Curve')\n",
    "    plt.legend()\n",
    "    plt.show()\n",
    "\n",
    "param_values = [int(x) for x in np.linspace(70, 90, 20)] #ubah k disini\n",
    "draw_learning_curve_dt(param_values)"
   ]
  },
  {
   "cell_type": "markdown",
   "metadata": {
    "id": "cL_futxExu5_"
   },
   "source": [
    "Niai k = 85 sudah bestfit, selanjutnya masukan nilai 83 pada parameter min_samples leaf."
   ]
  },
  {
   "cell_type": "code",
   "execution_count": 82,
   "metadata": {
    "colab": {
     "base_uri": "https://localhost:8080/"
    },
    "id": "ylwB1WTux4PA",
    "outputId": "4d427bec-493f-4572-ee5e-d89f14dbd51a"
   },
   "outputs": [
    {
     "name": "stdout",
     "output_type": "stream",
     "text": [
      "Accuracy (Train Set): 0.68\n",
      "Accuracy (Test Set): 0.65\n",
      "Precision (Train Set): 0.78\n",
      "Precision (Test Set): 0.74\n",
      "Recall (Train Set): 0.65\n",
      "Recall (Test Set): 0.62\n",
      "F1-Score (Train Set): 0.71\n",
      "F1-Score (Test Set): 0.68\n",
      "roc_auc (train-proba): 0.76\n",
      "roc_auc (test-proba): 0.72\n",
      "roc_auc (crossval train): 0.7652969307785195\n",
      "roc_auc (crossval test): 0.7022248520829373\n"
     ]
    }
   ],
   "source": [
    "from sklearn.model_selection import RandomizedSearchCV, GridSearchCV\n",
    "from scipy.stats import uniform\n",
    "import numpy as np\n",
    "\n",
    "# List of hyperparameter\n",
    "max_depth = [int(x) for x in np.linspace(1, 110, num = 30)] # Maximum number of levels in tree\n",
    "min_samples_split = [2, 5, 10, 100] # Minimum number of samples required to split a node\n",
    "min_samples_leaf = [83] # Minimum number of samples required at each leaf node\n",
    "max_features = ['auto', 'sqrt'] # Number of features to consider at every split\n",
    "criterion = ['gini','entropy']\n",
    "splitter = ['best','random']\n",
    "\n",
    "hyperparameters = dict(max_depth=max_depth, \n",
    "                       min_samples_split=min_samples_split, \n",
    "                       min_samples_leaf=min_samples_leaf,\n",
    "                       max_features=max_features,\n",
    "                       criterion=criterion,\n",
    "                       splitter=splitter\n",
    "                      )\n",
    "\n",
    "# Inisialisasi Model\n",
    "dts = DecisionTreeClassifier(random_state=42)\n",
    "model = RandomizedSearchCV(dts, hyperparameters, cv=5, scoring='roc_auc', random_state = 42)\n",
    "model.fit(Xs_train, ys_train)\n",
    "\n",
    "# Predict & Evaluation\n",
    "ys_pred = model.predict(Xs_test)#Check performa dari model\n",
    "eval_classification_std(model)"
   ]
  },
  {
   "cell_type": "markdown",
   "metadata": {},
   "source": [
    "Model sudah bestfit"
   ]
  },
  {
   "cell_type": "code",
   "execution_count": 83,
   "metadata": {},
   "outputs": [
    {
     "name": "stdout",
     "output_type": "stream",
     "text": [
      "{'ccp_alpha': 0.0, 'class_weight': None, 'criterion': 'gini', 'max_depth': 79, 'max_features': 'sqrt', 'max_leaf_nodes': None, 'min_impurity_decrease': 0.0, 'min_samples_leaf': 83, 'min_samples_split': 100, 'min_weight_fraction_leaf': 0.0, 'random_state': 42, 'splitter': 'best'}\n"
     ]
    }
   ],
   "source": [
    "show_best_hyperparameter(model)"
   ]
  },
  {
   "cell_type": "markdown",
   "metadata": {
    "id": "TfLqbdMBvbqO"
   },
   "source": [
    "\n",
    "### Fit Modelling (Data Normalization)"
   ]
  },
  {
   "cell_type": "code",
   "execution_count": 63,
   "metadata": {
    "colab": {
     "base_uri": "https://localhost:8080/"
    },
    "id": "HxWJmaMWvI9T",
    "outputId": "2382e8fe-fe08-4018-e411-d039f904672c"
   },
   "outputs": [
    {
     "name": "stdout",
     "output_type": "stream",
     "text": [
      "Accuracy (Train Set): 1.00\n",
      "Accuracy (Test Set): 0.64\n",
      "Precision (Train Set): 1.00\n",
      "Precision (Test Set): 0.69\n",
      "Recall (Train Set): 1.00\n",
      "Recall (Test Set): 0.70\n",
      "F1-Score (Train Set): 1.00\n",
      "F1-Score (Test Set): 0.70\n",
      "roc_auc (train-proba): 1.00\n",
      "roc_auc (test-proba): 0.63\n",
      "roc_auc (crossval train): 1.0\n",
      "roc_auc (crossval test): 0.6081290795038696\n"
     ]
    }
   ],
   "source": [
    "# decision tree\n",
    "from sklearn.tree import DecisionTreeClassifier # import decision tree dari sklearn\n",
    "dt = DecisionTreeClassifier() # inisiasi object dengan nama dt\n",
    "dt.fit(Xn_train, yn_train) # fit model decision tree dari data train\n",
    "eval_classification_norm(dt)"
   ]
  },
  {
   "cell_type": "markdown",
   "metadata": {},
   "source": [
    "Dataset normalisasi memiliki nilai evaluasi yang hampir sama dengan dataset standarisasi, penulis menyimpulkan tidak ada pengaruh signifikan modeling dengan nilai standarisasi atau normalisasi."
   ]
  },
  {
   "cell_type": "markdown",
   "metadata": {
    "id": "iKqBQfDCyGgm"
   },
   "source": [
    "## D. Random Forest"
   ]
  },
  {
   "cell_type": "markdown",
   "metadata": {
    "id": "q7VJqeaMyGvu"
   },
   "source": [
    "### Fit Modelling (Data Standardization)"
   ]
  },
  {
   "cell_type": "code",
   "execution_count": 101,
   "metadata": {
    "colab": {
     "base_uri": "https://localhost:8080/"
    },
    "id": "mforoK1rx_nE",
    "outputId": "92e28799-c74d-4e17-eb2a-35afdf8bdab5"
   },
   "outputs": [
    {
     "name": "stdout",
     "output_type": "stream",
     "text": [
      "Accuracy (Train Set): 1.00\n",
      "Accuracy (Test Set): 0.65\n",
      "Precision (Train Set): 1.00\n",
      "Precision (Test Set): 0.73\n",
      "Recall (Train Set): 1.00\n",
      "Recall (Test Set): 0.63\n",
      "F1-Score (Train Set): 1.00\n",
      "F1-Score (Test Set): 0.68\n",
      "roc_auc (train-proba): 1.00\n",
      "roc_auc (test-proba): 0.72\n",
      "roc_auc (crossval train): 1.0\n",
      "roc_auc (crossval test): 0.7206231473758058\n"
     ]
    }
   ],
   "source": [
    "from sklearn.ensemble import RandomForestClassifier\n",
    "\n",
    "rfs = RandomForestClassifier(random_state=42)\n",
    "rfs.fit(Xs_train, ys_train)\n",
    "eval_classification_std(rfs)"
   ]
  },
  {
   "cell_type": "markdown",
   "metadata": {},
   "source": [
    "Model terlalu overfitting, lakukan hyperparameter tuning."
   ]
  },
  {
   "cell_type": "markdown",
   "metadata": {},
   "source": [
    "### Cek feature Importance"
   ]
  },
  {
   "cell_type": "code",
   "execution_count": 102,
   "metadata": {},
   "outputs": [
    {
     "data": {
      "image/png": "[encoded data removed]",
      "text/plain": [
       "<Figure size 720x576 with 1 Axes>"
      ]
     },
     "metadata": {
      "needs_background": "light"
     },
     "output_type": "display_data"
    }
   ],
   "source": [
    "show_feature_importance_std(rfs)"
   ]
  },
  {
   "cell_type": "markdown",
   "metadata": {
    "id": "RBE7HUd7ySmA"
   },
   "source": [
    "Fitur Weight, Discount dan Cost punya nilai terbesar mempengaruhi target pada algoritma Random Forest."
   ]
  },
  {
   "cell_type": "code",
   "execution_count": 109,
   "metadata": {
    "colab": {
     "base_uri": "https://localhost:8080/"
    },
    "id": "BBwFKojHyPbj",
    "outputId": "0e23f83c-9852-4b77-d393-423cdaf47d8d"
   },
   "outputs": [
    {
     "name": "stdout",
     "output_type": "stream",
     "text": [
      "Accuracy (Train Set): 0.85\n",
      "Accuracy (Test Set): 0.66\n",
      "Precision (Train Set): 0.94\n",
      "Precision (Test Set): 0.77\n",
      "Recall (Train Set): 0.79\n",
      "Recall (Test Set): 0.61\n",
      "F1-Score (Train Set): 0.86\n",
      "F1-Score (Test Set): 0.68\n",
      "roc_auc (train-proba): 0.94\n",
      "roc_auc (test-proba): 0.73\n",
      "roc_auc (crossval train): 0.8932759063080116\n",
      "roc_auc (crossval test): 0.717083457426584\n"
     ]
    }
   ],
   "source": [
    "# tuning hyperparameter RF\n",
    "from sklearn.model_selection import RandomizedSearchCV\n",
    "\n",
    "n_estimators = [int(x) for x in np.linspace(1, 200, 50)]\n",
    "criterion = ['gini', 'entropy']\n",
    "max_depth = [int(x) for x in np.linspace(2, 100, 50)]\n",
    "min_samples_split = [int(x) for x in np.linspace(2, 20, 10)]\n",
    "min_samples_leaf = [int(x) for x in np.linspace(2, 20, 10)]\n",
    "\n",
    "hyperparameters = dict(n_estimators=n_estimators, criterion=criterion, max_depth=max_depth,\n",
    "                       min_samples_split=min_samples_split, min_samples_leaf=min_samples_leaf)\n",
    "\n",
    "rfs = RandomForestClassifier(random_state=42)\n",
    "rss = RandomizedSearchCV(rfs, hyperparameters, scoring='roc_auc', random_state=1, cv=5)\n",
    "rss.fit(Xs_train, ys_train)\n",
    "eval_classification_std(rss)"
   ]
  },
  {
   "cell_type": "markdown",
   "metadata": {
    "id": "6n1U1_aZyoU1"
   },
   "source": [
    "Model masih terlalu overfitting, cek learning curve!"
   ]
  },
  {
   "cell_type": "code",
   "execution_count": 110,
   "metadata": {
    "colab": {
     "base_uri": "https://localhost:8080/",
     "height": 439
    },
    "id": "AHTszwTCymCu",
    "outputId": "631496da-2cee-4f10-84f7-b666dae52e89"
   },
   "outputs": [
    {
     "name": "stdout",
     "output_type": "stream",
     "text": [
      "param value: 1; train: 0.8660669796052676; test: 0.6344146091733147\n",
      "param value: 1; train: 0.8555619352051448; test: 0.6138898189664654\n",
      "param value: 1; train: 0.853752129347955; test: 0.6133099358165595\n",
      "param value: 2; train: 0.9450210006125956; test: 0.669471861513875\n",
      "param value: 2; train: 0.9472519379584674; test: 0.6670041230743351\n",
      "param value: 3; train: 0.9731646195826141; test: 0.683288163913637\n",
      "param value: 3; train: 0.9720473601308461; test: 0.6796950316064624\n",
      "param value: 4; train: 0.9861902598047005; test: 0.7078848741888106\n",
      "param value: 4; train: 0.9854365657637411; test: 0.6917862422924875\n",
      "param value: 5; train: 0.9917643946906392; test: 0.705804331088207\n"
     ]
    },
    {
     "data": {
      "image/png": "[encoded data removed]",
      "text/plain": [
       "<Figure size 432x288 with 1 Axes>"
      ]
     },
     "metadata": {
      "needs_background": "light"
     },
     "output_type": "display_data"
    }
   ],
   "source": [
    "#learning curve\n",
    "param_values = [int(x) for x in np.linspace(1, 5, 10)] # n_estimators\n",
    "# param_values = [int(x) for x in np.linspace(2, 100, 50)] # max_depth\n",
    "# param_values = [int(x) for x in np.linspace(2, 20, 15)] # min_samples_split\n",
    "# param_values = [int(x) for x in np.linspace(2, 20, 15)] # min_samples_leaf\n",
    "\n",
    "train_scores = []\n",
    "test_scores = []\n",
    "\n",
    "for c in param_values:\n",
    "    model = RandomForestClassifier(n_estimators=c) #cek param n estimator\n",
    "    model.fit(Xs_train, ys_train)\n",
    "\n",
    "    # eval on train\n",
    "    ys_pred_train_proba = model.predict_proba(Xs_train)\n",
    "    train_auc = roc_auc_score(ys_train, ys_pred_train_proba[:,1])\n",
    "    train_scores.append(train_auc)\n",
    "\n",
    "    # eval on test\n",
    "    ys_pred_proba = model.predict_proba(Xs_test)\n",
    "    test_auc = roc_auc_score(ys_test, ys_pred_proba[:,1])\n",
    "    test_scores.append(test_auc)\n",
    "\n",
    "    print('param value: ' + str(c) + '; train: ' + str(train_auc) + '; test: '+ str(test_auc))\n",
    "\n",
    "plt.plot(param_values, train_scores, label='Train')\n",
    "plt.plot(param_values, test_scores, label='Test')\n",
    "plt.legend()\n",
    "plt.show()"
   ]
  },
  {
   "cell_type": "markdown",
   "metadata": {
    "id": "aVhrZ9B4zlzy"
   },
   "source": [
    "c = 2 paling bestfit, masukan nilai c= 2 pada parameter n_estimators. selanjutnya coba tuning pada parameter max_depth"
   ]
  },
  {
   "cell_type": "code",
   "execution_count": 111,
   "metadata": {
    "colab": {
     "base_uri": "https://localhost:8080/",
     "height": 439
    },
    "id": "Lw5Hcdphzjx1",
    "outputId": "15bdcaa2-3cde-4233-a2ba-4ecf35191acf"
   },
   "outputs": [
    {
     "name": "stdout",
     "output_type": "stream",
     "text": [
      "param value: 1; train: 0.5510615587685113; test: 0.5428163234276028\n",
      "param value: 1; train: 0.6758932815201324; test: 0.6870448685598193\n",
      "param value: 1; train: 0.5189772190547821; test: 0.5178722493966628\n",
      "param value: 2; train: 0.7252405799437248; test: 0.7297651513681037\n",
      "param value: 2; train: 0.7253676133171268; test: 0.7342588413983191\n",
      "param value: 3; train: 0.7352302904270186; test: 0.7406794095382288\n",
      "param value: 3; train: 0.7412121259603984; test: 0.741025155767775\n",
      "param value: 4; train: 0.7446496751601815; test: 0.7361060563416733\n",
      "param value: 4; train: 0.7325809077607132; test: 0.7192690237258745\n",
      "param value: 5; train: 0.7513309217511729; test: 0.7297900208337378\n"
     ]
    },
    {
     "data": {
      "image/png": "[encoded data removed]",
      "text/plain": [
       "<Figure size 432x288 with 1 Axes>"
      ]
     },
     "metadata": {
      "needs_background": "light"
     },
     "output_type": "display_data"
    }
   ],
   "source": [
    "#learning curve\n",
    "# param_values = [int(x) for x in np.linspace(1, 5, 10)] # n_estimators\n",
    "param_values = [int(x) for x in np.linspace(1, 5, 10)] # max_depth\n",
    "# param_values = [int(x) for x in np.linspace(2, 20, 15)] # min_samples_split\n",
    "# param_values = [int(x) for x in np.linspace(2, 20, 15)] # min_samples_leaf\n",
    "\n",
    "train_scores = []\n",
    "test_scores = []\n",
    "\n",
    "for c in param_values:\n",
    "    model = RandomForestClassifier(n_estimators= 2, max_depth = c) # c = 2 dan tuning max_depth \n",
    "    model.fit(Xs_train, ys_train)\n",
    "\n",
    "    # eval on train\n",
    "    ys_pred_train_proba = model.predict_proba(Xs_train)\n",
    "    train_auc = roc_auc_score(ys_train, ys_pred_train_proba[:,1])\n",
    "    train_scores.append(train_auc)\n",
    "\n",
    "    # eval on test\n",
    "    ys_pred_proba = model.predict_proba(Xs_test)\n",
    "    test_auc = roc_auc_score(ys_test, ys_pred_proba[:,1])\n",
    "    test_scores.append(test_auc)\n",
    "\n",
    "    print('param value: ' + str(c) + '; train: ' + str(train_auc) + '; test: '+ str(test_auc))\n",
    "\n",
    "plt.plot(param_values, train_scores, label='Train')\n",
    "plt.plot(param_values, test_scores, label='Test')\n",
    "plt.legend()\n",
    "plt.show()"
   ]
  },
  {
   "cell_type": "markdown",
   "metadata": {
    "id": "WABAudTfz23g"
   },
   "source": [
    "Pada max depth = 5 model sudah bestfit"
   ]
  },
  {
   "cell_type": "code",
   "execution_count": 112,
   "metadata": {
    "colab": {
     "base_uri": "https://localhost:8080/"
    },
    "id": "addcSAAFyaYm",
    "outputId": "541d5810-9cf4-401e-ecb3-8246ac7ee12d"
   },
   "outputs": [
    {
     "name": "stdout",
     "output_type": "stream",
     "text": [
      "Accuracy (Train Set): 0.67\n",
      "Accuracy (Test Set): 0.65\n",
      "Precision (Train Set): 0.75\n",
      "Precision (Test Set): 0.73\n",
      "Recall (Train Set): 0.67\n",
      "Recall (Test Set): 0.64\n",
      "F1-Score (Train Set): 0.71\n",
      "F1-Score (Test Set): 0.68\n",
      "roc_auc (train-proba): 0.75\n",
      "roc_auc (test-proba): 0.73\n",
      "roc_auc (crossval train): 0.7530222529629895\n",
      "roc_auc (crossval test): 0.7129944375135076\n"
     ]
    }
   ],
   "source": [
    "# tuning hyperparameter RF\n",
    "from sklearn.model_selection import RandomizedSearchCV\n",
    "\n",
    "n_estimators = [2]\n",
    "criterion = ['gini', 'entropy']\n",
    "max_depth = [5]\n",
    "min_samples_split = [int(x) for x in np.linspace(2, 20, 10)]\n",
    "min_samples_leaf = [int(x) for x in np.linspace(2, 20, 10)]\n",
    "\n",
    "hyperparameters = dict(n_estimators=n_estimators, criterion=criterion, max_depth=max_depth,\n",
    "                       min_samples_split=min_samples_split, min_samples_leaf=min_samples_leaf)\n",
    "\n",
    "rfs = RandomForestClassifier(random_state=42)\n",
    "rss = RandomizedSearchCV(rfs, hyperparameters, scoring='roc_auc', random_state=1, cv=5)\n",
    "rss.fit(Xs_train, ys_train)\n",
    "eval_classification_std(rss)"
   ]
  },
  {
   "cell_type": "code",
   "execution_count": 113,
   "metadata": {},
   "outputs": [
    {
     "name": "stdout",
     "output_type": "stream",
     "text": [
      "{'bootstrap': True, 'ccp_alpha': 0.0, 'class_weight': None, 'criterion': 'entropy', 'max_depth': 5, 'max_features': 'sqrt', 'max_leaf_nodes': None, 'max_samples': None, 'min_impurity_decrease': 0.0, 'min_samples_leaf': 2, 'min_samples_split': 6, 'min_weight_fraction_leaf': 0.0, 'n_estimators': 2, 'n_jobs': None, 'oob_score': False, 'random_state': 42, 'verbose': 0, 'warm_start': False}\n"
     ]
    }
   ],
   "source": [
    "show_best_hyperparameter(rss)"
   ]
  },
  {
   "cell_type": "markdown",
   "metadata": {
    "id": "va-k3j1V0oIa"
   },
   "source": [
    "### Fit Modelling (Data Normalization)"
   ]
  },
  {
   "cell_type": "code",
   "execution_count": 71,
   "metadata": {
    "colab": {
     "base_uri": "https://localhost:8080/"
    },
    "id": "DWbBOu5C0QA0",
    "outputId": "24e06c22-edbb-4dfc-80a2-201b45c1a78a"
   },
   "outputs": [
    {
     "name": "stdout",
     "output_type": "stream",
     "text": [
      "Accuracy (Train Set): 1.00\n",
      "Accuracy (Test Set): 0.65\n",
      "Precision (Train Set): 1.00\n",
      "Precision (Test Set): 0.73\n",
      "Recall (Train Set): 1.00\n",
      "Recall (Test Set): 0.63\n",
      "F1-Score (Train Set): 1.00\n",
      "F1-Score (Test Set): 0.68\n",
      "roc_auc (train-proba): 1.00\n",
      "roc_auc (test-proba): 0.72\n",
      "roc_auc (crossval train): 1.0\n",
      "roc_auc (crossval test): 0.7209114987885756\n"
     ]
    }
   ],
   "source": [
    "from sklearn.ensemble import RandomForestClassifier\n",
    "\n",
    "rfs = RandomForestClassifier(random_state=42)\n",
    "rfs.fit(Xn_train, yn_train)\n",
    "eval_classification_norm(rfs)"
   ]
  },
  {
   "cell_type": "markdown",
   "metadata": {},
   "source": [
    "Dataset normalisasi memiliki nilai evaluasi yang hampir sama dengan dataset standarisasi, penulis menyimpulkan tidak ada pengaruh signifikan modeling dengan nilai standarisasi atau normalisasi."
   ]
  },
  {
   "cell_type": "markdown",
   "metadata": {
    "id": "9okAIe3k0xpA"
   },
   "source": [
    "## 5. Adaboost"
   ]
  },
  {
   "cell_type": "markdown",
   "metadata": {
    "id": "4SskHXvq0yEJ"
   },
   "source": [
    "### Fit Modelling (Data Standardization)"
   ]
  },
  {
   "cell_type": "code",
   "execution_count": 22,
   "metadata": {
    "colab": {
     "base_uri": "https://localhost:8080/"
    },
    "id": "nH65P2dc0sy1",
    "outputId": "e45aa960-5e7e-48ac-d9df-a606d67870f4"
   },
   "outputs": [
    {
     "name": "stdout",
     "output_type": "stream",
     "text": [
      "Accuracy (Train Set): 0.68\n",
      "Accuracy (Test Set): 0.66\n",
      "Precision (Train Set): 0.80\n",
      "Precision (Test Set): 0.78\n",
      "Recall (Train Set): 0.61\n",
      "Recall (Test Set): 0.59\n",
      "F1-Score (Train Set): 0.69\n",
      "F1-Score (Test Set): 0.67\n",
      "roc_auc (train-proba): 0.76\n",
      "roc_auc (test-proba): 0.74\n",
      "roc_auc (crossval train): 0.7589001182826435\n",
      "roc_auc (crossval test): 0.7119999926723677\n"
     ]
    }
   ],
   "source": [
    "from sklearn.ensemble import AdaBoostClassifier\n",
    "clfs = AdaBoostClassifier()\n",
    "clfs.fit(Xs_train, ys_train)\n",
    "eval_classification_std(clfs)"
   ]
  },
  {
   "cell_type": "markdown",
   "metadata": {
    "id": "_mZgYmxh1NMZ"
   },
   "source": [
    "Model sudah cukup bestfit, coba lakukan tuning hyperparameter."
   ]
  },
  {
   "cell_type": "code",
   "execution_count": 117,
   "metadata": {
    "colab": {
     "base_uri": "https://localhost:8080/"
    },
    "id": "reNBFFMK1QJo",
    "outputId": "61f83d9f-14d3-4662-81b3-3e47dbdd0cb9"
   },
   "outputs": [
    {
     "name": "stdout",
     "output_type": "stream",
     "text": [
      "Accuracy (Train Set): 0.67\n",
      "Accuracy (Test Set): 0.67\n",
      "Precision (Train Set): 0.77\n",
      "Precision (Test Set): 0.76\n",
      "Recall (Train Set): 0.63\n",
      "Recall (Test Set): 0.63\n",
      "F1-Score (Train Set): 0.69\n",
      "F1-Score (Test Set): 0.69\n",
      "roc_auc (train-proba): 0.75\n",
      "roc_auc (test-proba): 0.74\n",
      "roc_auc (crossval train): 0.7581563215328401\n",
      "roc_auc (crossval test): 0.71201036430838\n"
     ]
    }
   ],
   "source": [
    "from sklearn.model_selection import RandomizedSearchCV\n",
    "import numpy as np\n",
    "\n",
    "# List of hyperparameter\n",
    "hyperparameters = dict(n_estimators = [int(x) for x in np.linspace(start = 50, stop = 2000, num = 2000)], # Jumlah iterasi\n",
    "                       learning_rate = [float(x) for x in np.linspace(start = 0.001, stop = 0.1, num = 200)],  \n",
    "                       algorithm = ['SAMME', 'SAMME.R']\n",
    "                      )\n",
    "\n",
    "# Init model\n",
    "abs = AdaBoostClassifier(random_state=42)\n",
    "abs_tuned = RandomizedSearchCV(abs, hyperparameters, random_state=42, cv=5, scoring='roc_auc')\n",
    "abs_tuned.fit(Xs_train,ys_train)\n",
    "\n",
    "# Predict & Evaluation\n",
    "eval_classification_std(abs_tuned)"
   ]
  },
  {
   "cell_type": "markdown",
   "metadata": {},
   "source": [
    "Model sebelum tuning hyperparameter ternyata lebih baik karena nilai ROC-AUC lebih tinggi yaitu 0.76 dibanding 0.75 dengan gap ROC-AUC tidak terlalu jauh hanya berbededa 1%. Oleh karena itu ambil modeling sebelum tuning hyperparameter."
   ]
  },
  {
   "cell_type": "code",
   "execution_count": 118,
   "metadata": {},
   "outputs": [
    {
     "name": "stdout",
     "output_type": "stream",
     "text": [
      "{'algorithm': 'SAMME.R', 'base_estimator': None, 'learning_rate': 0.08358291457286432, 'n_estimators': 225, 'random_state': 42}\n"
     ]
    }
   ],
   "source": [
    "show_best_hyperparameter(abs_tuned)"
   ]
  },
  {
   "cell_type": "markdown",
   "metadata": {},
   "source": [
    "### Feature Imporrance Adaboost"
   ]
  },
  {
   "cell_type": "code",
   "execution_count": 23,
   "metadata": {},
   "outputs": [
    {
     "data": {
      "image/png": "[encoded data removed]",
      "text/plain": [
       "<Figure size 720x576 with 1 Axes>"
      ]
     },
     "metadata": {
      "needs_background": "light"
     },
     "output_type": "display_data"
    }
   ],
   "source": [
    "show_feature_importance_std(clfs)"
   ]
  },
  {
   "cell_type": "markdown",
   "metadata": {},
   "source": [
    "Dari bar chart feature importance pada Adaboost di atas, terlihat feature Weight punya nilai pengaruh terbesar terhadap target, disusul feature Cost, Purchases, Rating, Product Importance dan Discount."
   ]
  },
  {
   "cell_type": "markdown",
   "metadata": {},
   "source": [
    "### Confusion Matrix"
   ]
  },
  {
   "cell_type": "code",
   "execution_count": 160,
   "metadata": {},
   "outputs": [
    {
     "data": {
      "text/plain": [
       "array([[ 958,  363],\n",
       "       [ 697, 1175]], dtype=int64)"
      ]
     },
     "execution_count": 160,
     "metadata": {},
     "output_type": "execute_result"
    }
   ],
   "source": [
    "from sklearn.metrics import confusion_matrix # import package dari sklearn\n",
    "confusion_matrix(ys_test, ys_pred) # lihat hasil confusion matrix-nya"
   ]
  },
  {
   "cell_type": "code",
   "execution_count": 161,
   "metadata": {},
   "outputs": [
    {
     "data": {
      "image/png": "[encoded data removed]",
      "text/plain": [
       "<Figure size 432x288 with 2 Axes>"
      ]
     },
     "metadata": {
      "needs_background": "light"
     },
     "output_type": "display_data"
    }
   ],
   "source": [
    "from sklearn import metrics\n",
    "\n",
    "# perdiksi target\n",
    "ys_pred = abs_tuned.predict(Xs_test)\n",
    "\n",
    "# buat confusion matrix\n",
    "confusion_matrix = metrics.confusion_matrix(ys_test, ys_pred)\n",
    "\n",
    "cm_display = metrics.ConfusionMatrixDisplay(confusion_matrix = confusion_matrix, display_labels = [False, True])\n",
    "\n",
    "cm_display.plot()\n",
    "plt.show()"
   ]
  },
  {
   "cell_type": "markdown",
   "metadata": {
    "id": "VKzzf0Ua17KG"
   },
   "source": [
    "### Fit Modelling (Data Normalization)"
   ]
  },
  {
   "cell_type": "code",
   "execution_count": 119,
   "metadata": {
    "colab": {
     "base_uri": "https://localhost:8080/"
    },
    "id": "JU7fQ4AU1YlV",
    "outputId": "7d384cb5-3c05-4b30-aa30-a878db1ebf78"
   },
   "outputs": [
    {
     "name": "stdout",
     "output_type": "stream",
     "text": [
      "Accuracy (Train Set): 0.68\n",
      "Accuracy (Test Set): 0.66\n",
      "Precision (Train Set): 0.80\n",
      "Precision (Test Set): 0.78\n",
      "Recall (Train Set): 0.61\n",
      "Recall (Test Set): 0.59\n",
      "F1-Score (Train Set): 0.69\n",
      "F1-Score (Test Set): 0.67\n",
      "roc_auc (train-proba): 0.76\n",
      "roc_auc (test-proba): 0.74\n",
      "roc_auc (crossval train): 0.7589001182826435\n",
      "roc_auc (crossval test): 0.7119999926723677\n"
     ]
    }
   ],
   "source": [
    "from sklearn.ensemble import AdaBoostClassifier\n",
    "clfn = AdaBoostClassifier()\n",
    "clfn.fit(Xn_train, yn_train)\n",
    "eval_classification_norm(clfn)"
   ]
  },
  {
   "cell_type": "markdown",
   "metadata": {},
   "source": [
    "Dataset normalisasi memiliki nilai evaluasi yang hampir sama dengan dataset standarisasi, penulis menyimpulkan tidak ada pengaruh signifikan modeling dengan nilai standarisasi atau normalisasi."
   ]
  },
  {
   "cell_type": "markdown",
   "metadata": {
    "id": "j6r2Bv6y2Kym"
   },
   "source": [
    "## F. XGBoost"
   ]
  },
  {
   "cell_type": "markdown",
   "metadata": {
    "id": "x-2m4-OS2LN6"
   },
   "source": [
    "### Fit Modelling (Data Standardization)"
   ]
  },
  {
   "cell_type": "code",
   "execution_count": 18,
   "metadata": {
    "colab": {
     "base_uri": "https://localhost:8080/"
    },
    "id": "yIdizrEJ2V-S",
    "outputId": "b1ccb8d4-fc30-4432-ca70-7176f9913b0e"
   },
   "outputs": [
    {
     "name": "stdout",
     "output_type": "stream",
     "text": [
      "Accuracy (Train Set): 0.92\n",
      "Accuracy (Test Set): 0.64\n",
      "Precision (Train Set): 0.97\n",
      "Precision (Test Set): 0.71\n",
      "Recall (Train Set): 0.89\n",
      "Recall (Test Set): 0.64\n",
      "F1-Score (Train Set): 0.93\n",
      "F1-Score (Test Set): 0.67\n",
      "roc_auc (train-proba): 0.98\n",
      "roc_auc (test-proba): 0.71\n",
      "roc_auc (crossval train): 0.9755223208774412\n",
      "roc_auc (crossval test): 0.7221942559637166\n"
     ]
    }
   ],
   "source": [
    "from xgboost import XGBClassifier\n",
    "\n",
    "xgs = XGBClassifier()\n",
    "xgs.fit(Xs_train, ys_train)\n",
    "eval_classification_std(xgs)"
   ]
  },
  {
   "cell_type": "markdown",
   "metadata": {
    "id": "ufAuJdbY6ixz"
   },
   "source": [
    "Model masih sangat overfit, coba lakukan tuning hyperparameter"
   ]
  },
  {
   "cell_type": "code",
   "execution_count": 19,
   "metadata": {
    "colab": {
     "base_uri": "https://localhost:8080/"
    },
    "id": "K3LzDzEN2dV9",
    "outputId": "805f6162-80ba-439d-f5d3-f41986e7899d"
   },
   "outputs": [
    {
     "name": "stdout",
     "output_type": "stream",
     "text": [
      "Accuracy (Train Set): 0.69\n",
      "Accuracy (Test Set): 0.64\n",
      "Precision (Train Set): 0.73\n",
      "Precision (Test Set): 0.69\n",
      "Recall (Train Set): 0.74\n",
      "Recall (Test Set): 0.71\n",
      "F1-Score (Train Set): 0.74\n",
      "F1-Score (Test Set): 0.70\n",
      "roc_auc (train-proba): 0.78\n",
      "roc_auc (test-proba): 0.73\n",
      "roc_auc (crossval train): 0.8928550440988616\n",
      "roc_auc (crossval test): 0.7229920816448401\n"
     ]
    }
   ],
   "source": [
    "from sklearn.model_selection import RandomizedSearchCV, GridSearchCV\n",
    "import numpy as np\n",
    "\n",
    "#Menjadikan ke dalam bentuk dictionary\n",
    "hyperparameters = {\n",
    "                    'max_depth' : [int(x) for x in np.linspace(10, 110, num = 11)],\n",
    "                    'min_child_weight' : [int(x) for x in np.linspace(1, 20, num = 11)],\n",
    "                    'gamma' : [float(x) for x in np.linspace(0, 1, num = 11)],\n",
    "                    'tree_method' : ['auto', 'exact', 'approx', 'hist'],\n",
    "\n",
    "                    'colsample_bytree' : [float(x) for x in np.linspace(0, 1, num = 11)],\n",
    "                    'eta' : [float(x) for x in np.linspace(0, 1, num = 100)],\n",
    "\n",
    "                    'lambda' : [float(x) for x in np.linspace(0, 1, num = 11)],\n",
    "                    'alpha' : [float(x) for x in np.linspace(0, 1, num = 11)]\n",
    "                    }\n",
    "\n",
    "# Init\n",
    "from xgboost import XGBClassifier\n",
    "xgs = XGBClassifier(random_state=42)\n",
    "xgs_tuned = RandomizedSearchCV(xgs, hyperparameters, cv=5, random_state=42, scoring='recall')\n",
    "xgs_tuned.fit(Xs_train,ys_train)\n",
    "\n",
    "# Predict & Evaluation\n",
    "eval_classification_std(xgs_tuned)"
   ]
  },
  {
   "cell_type": "markdown",
   "metadata": {},
   "source": [
    "Model sudah lumayan best-fit dengan selisih ROC-AUC pada data train dan test sebesar 5%."
   ]
  },
  {
   "cell_type": "code",
   "execution_count": 20,
   "metadata": {},
   "outputs": [
    {
     "name": "stdout",
     "output_type": "stream",
     "text": [
      "{'objective': 'binary:logistic', 'use_label_encoder': None, 'base_score': 0.5, 'booster': 'gbtree', 'callbacks': None, 'colsample_bylevel': 1, 'colsample_bynode': 1, 'colsample_bytree': 0.1, 'early_stopping_rounds': None, 'enable_categorical': False, 'eval_metric': None, 'feature_types': None, 'gamma': 0.4, 'gpu_id': -1, 'grow_policy': 'depthwise', 'importance_type': None, 'interaction_constraints': '', 'learning_rate': 0.13131313, 'max_bin': 256, 'max_cat_threshold': 64, 'max_cat_to_onehot': 4, 'max_delta_step': 0, 'max_depth': 90, 'max_leaves': 0, 'min_child_weight': 6, 'missing': nan, 'monotone_constraints': '()', 'n_estimators': 100, 'n_jobs': 0, 'num_parallel_tree': 1, 'predictor': 'auto', 'random_state': 42, 'reg_alpha': 0.300000012, 'reg_lambda': 0, 'sampling_method': 'uniform', 'scale_pos_weight': 1, 'subsample': 1, 'tree_method': 'hist', 'validate_parameters': 1, 'verbosity': None, 'lambda': 0.0, 'eta': 0.13131313131313133, 'alpha': 0.30000000000000004}\n"
     ]
    }
   ],
   "source": [
    "show_best_hyperparameter(xgs_tuned)"
   ]
  },
  {
   "cell_type": "markdown",
   "metadata": {
    "id": "peKmfeOQ2hly"
   },
   "source": [
    "### Fit Modelling (Data Normalization)"
   ]
  },
  {
   "cell_type": "code",
   "execution_count": 21,
   "metadata": {
    "colab": {
     "base_uri": "https://localhost:8080/"
    },
    "id": "TBRKjkNf2jfp",
    "outputId": "f37b3138-2cde-446b-8b09-b1af10d96423"
   },
   "outputs": [
    {
     "name": "stdout",
     "output_type": "stream",
     "text": [
      "Accuracy (Train Set): 0.92\n",
      "Accuracy (Test Set): 0.64\n",
      "Precision (Train Set): 0.97\n",
      "Precision (Test Set): 0.71\n",
      "Recall (Train Set): 0.89\n",
      "Recall (Test Set): 0.64\n",
      "F1-Score (Train Set): 0.93\n",
      "F1-Score (Test Set): 0.67\n",
      "roc_auc (train-proba): 0.98\n",
      "roc_auc (test-proba): 0.71\n",
      "roc_auc (crossval train): 0.9755223208774412\n",
      "roc_auc (crossval test): 0.7227071909548684\n"
     ]
    }
   ],
   "source": [
    "from xgboost import XGBClassifier\n",
    "\n",
    "xgn = XGBClassifier()\n",
    "xgn.fit(Xn_train, yn_train)\n",
    "eval_classification_norm(xgn)"
   ]
  },
  {
   "cell_type": "markdown",
   "metadata": {},
   "source": [
    "Dataset normalisasi memiliki nilai evaluasi yang hampir sama dengan dataset standarisasi, penulis menyimpulkan tidak ada pengaruh signifikan modeling dengan nilai standarisasi atau normalisasi."
   ]
  },
  {
   "cell_type": "markdown",
   "metadata": {},
   "source": [
    "# 3. SHAP Values Feature Importances"
   ]
  },
  {
   "cell_type": "code",
   "execution_count": 104,
   "metadata": {},
   "outputs": [
    {
     "name": "stdout",
     "output_type": "stream",
     "text": [
      "Requirement already satisfied: shap in c:\\users\\asus\\anaconda3\\lib\\site-packages (0.41.0)\n",
      "Requirement already satisfied: slicer==0.0.7 in c:\\users\\asus\\anaconda3\\lib\\site-packages (from shap) (0.0.7)\n",
      "Requirement already satisfied: packaging>20.9 in c:\\users\\asus\\anaconda3\\lib\\site-packages (from shap) (21.3)\n",
      "Requirement already satisfied: numba in c:\\users\\asus\\anaconda3\\lib\\site-packages (from shap) (0.55.1)\n",
      "Requirement already satisfied: scipy in c:\\users\\asus\\anaconda3\\lib\\site-packages (from shap) (1.7.3)\n",
      "Requirement already satisfied: pandas in c:\\users\\asus\\anaconda3\\lib\\site-packages (from shap) (1.4.2)\n",
      "Requirement already satisfied: scikit-learn in c:\\users\\asus\\anaconda3\\lib\\site-packages (from shap) (1.1.3)\n",
      "Requirement already satisfied: tqdm>4.25.0 in c:\\users\\asus\\anaconda3\\lib\\site-packages (from shap) (4.64.0)\n",
      "Requirement already satisfied: cloudpickle in c:\\users\\asus\\anaconda3\\lib\\site-packages (from shap) (2.0.0)\n",
      "Requirement already satisfied: numpy in c:\\users\\asus\\anaconda3\\lib\\site-packages (from shap) (1.21.5)\n",
      "Requirement already satisfied: pyparsing!=3.0.5,>=2.0.2 in c:\\users\\asus\\anaconda3\\lib\\site-packages (from packaging>20.9->shap) (3.0.4)\n",
      "Requirement already satisfied: colorama in c:\\users\\asus\\anaconda3\\lib\\site-packages (from tqdm>4.25.0->shap) (0.4.4)\n",
      "Requirement already satisfied: setuptools in c:\\users\\asus\\anaconda3\\lib\\site-packages (from numba->shap) (61.2.0)\n",
      "Requirement already satisfied: llvmlite<0.39,>=0.38.0rc1 in c:\\users\\asus\\anaconda3\\lib\\site-packages (from numba->shap) (0.38.0)\n",
      "Requirement already satisfied: pytz>=2020.1 in c:\\users\\asus\\anaconda3\\lib\\site-packages (from pandas->shap) (2021.3)\n",
      "Requirement already satisfied: python-dateutil>=2.8.1 in c:\\users\\asus\\anaconda3\\lib\\site-packages (from pandas->shap) (2.8.2)\n",
      "Requirement already satisfied: six>=1.5 in c:\\users\\asus\\anaconda3\\lib\\site-packages (from python-dateutil>=2.8.1->pandas->shap) (1.16.0)\n",
      "Requirement already satisfied: threadpoolctl>=2.0.0 in c:\\users\\asus\\anaconda3\\lib\\site-packages (from scikit-learn->shap) (2.2.0)\n",
      "Requirement already satisfied: joblib>=1.0.0 in c:\\users\\asus\\anaconda3\\lib\\site-packages (from scikit-learn->shap) (1.1.0)\n"
     ]
    }
   ],
   "source": [
    "!pip install shap"
   ]
  },
  {
   "cell_type": "code",
   "execution_count": 106,
   "metadata": {},
   "outputs": [
    {
     "data": {
      "image/png": "[encoded data removed]",
      "text/plain": [
       "<Figure size 576x568.8 with 2 Axes>"
      ]
     },
     "metadata": {
      "needs_background": "light"
     },
     "output_type": "display_data"
    }
   ],
   "source": [
    "from sklearn.tree import DecisionTreeClassifier\n",
    "dtsh = DecisionTreeClassifier()\n",
    "dtsh.fit(Xs_train, ys_train)\n",
    "\n",
    "import shap\n",
    "explainer = shap.TreeExplainer(dtsh)\n",
    "shap_values = explainer.shap_values(Xs_test)\n",
    "shap.summary_plot(shap_values[1], Xs_test) # Summary shap value terhadap label positive"
   ]
  },
  {
   "cell_type": "markdown",
   "metadata": {},
   "source": [
    "Interpretasi : <br>\n",
    "1. Feature Discount dan Weight memiliki importance terbesar dibanding feature-feature yang lain.\n",
    "2. Feature Discount berkolerasi secara positif, artinya makin banyak diskon diberikan makin tinggi peluang terjadinya pengiriman terlambat.\n",
    "3. Feature Weight berkolerasi secara negatif, artinya pada barang-barang yang beratnya rendah punya peluang terjadinya pengiriman terlambat yang makin tinggi."
   ]
  },
  {
   "cell_type": "code",
   "execution_count": null,
   "metadata": {},
   "outputs": [],
   "source": []
  }
 ],
 "metadata": {
  "colab": {
   "collapsed_sections": [
    "MWjErvl0dKAT",
    "LNXAPDwBeZbo",
    "Pgo-oX35g7JM",
    "MdBtuyNhhBQI",
    "a7s51VW7hndy",
    "gfMBkoGdhvOL",
    "C1m4h6zUhyfA",
    "sfoJmCIWh6jC",
    "oG_5Stv9iUsw"
   ],
   "provenance": [],
   "toc_visible": true
  },
  "kernelspec": {
   "display_name": "Python 3 (ipykernel)",
   "language": "python",
   "name": "python3"
  },
  "language_info": {
   "codemirror_mode": {
    "name": "ipython",
    "version": 3
   },
   "file_extension": ".py",
   "mimetype": "text/x-python",
   "name": "python",
   "nbconvert_exporter": "python",
   "pygments_lexer": "ipython3",
   "version": "3.9.13"
  }
 },
 "nbformat": 4,
 "nbformat_minor": 4
}
